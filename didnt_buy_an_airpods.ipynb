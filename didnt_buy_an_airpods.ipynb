{
 "cells": [
  {
   "cell_type": "markdown",
   "metadata": {},
   "source": [
    "# Тестовые задания на интервью\n",
    "\n",
    "## Задача №1\n",
    "Дана таблица `Orders`. Необходимо написать запрос для команды маркетинга, который выявит всех киентов, кто купил iPhone, но не купил Airpods, чтобы отправить им маркетинговое предложение. Также следует определить количество таких клиентов за каждый месяц.\n",
    "\n",
    "```sql\n",
    "CREATE TABLE orders (\n",
    "  customer_name VARCHAR(50),\n",
    "  order_date DATE FORMAT 'YY-MM-DD',\n",
    "  order_id VARCHAR(10),\n",
    "  product_name VARCHAR(10),\n",
    "  qty INTEGER,\n",
    "  price INTEGER\n",
    ")\n",
    "```\n",
    "**Пример данных**\n",
    "\n",
    "    \n",
    "|customer_name|order_day|order_id|prod_name|qty|price|\n",
    "|--|--|--|--|--|--|\n",
    "|Mahesh|\t2022-01-01|\t1|\tiPhone|\t1|\t1000|\n",
    "|Mahesh|\t2022-01-01|\t1|\tiPad|\t1|\t500|\n",
    "|Mahesh|\t2022-01-01|\t1|\tAirpods|\t1|\t100|\n",
    "|Wayne|\t2022-01-01|\t2|\tiPhone|\t1|\t1000|\n",
    "|Wayne|\t2022-01-01|\t2|\tShirt|\t1|\t100|\n",
    "|Wayne|\t2022-01-01|\t2|\tCable|\t1|\t20|\n",
    "|Ben|\t2022-01-01|\t3|\tiPhone|\t1|\t1000|\n",
    "|Ben|\t2022-01-01|\t3|\tSoftware|\t2|\t30|\n",
    "\n",
    "Инструменты: SQL, Python"
   ]
  },
  {
   "cell_type": "code",
   "execution_count": 3,
   "metadata": {},
   "outputs": [
    {
     "data": {
      "text/html": [
       "<style>\n",
       "    .rendered_html table,\n",
       "    div[data-mime-type=\"text-markdown\"] table {\n",
       "        margin-left: 0\n",
       "    }\n",
       "</style>\n"
      ],
      "text/plain": [
       "<IPython.core.display.HTML object>"
      ]
     },
     "metadata": {},
     "output_type": "display_data"
    }
   ],
   "source": [
    "%%html\n",
    "<style>\n",
    "    .rendered_html table,\n",
    "    div[data-mime-type=\"text-markdown\"] table {\n",
    "        margin-left: 0\n",
    "    }\n",
    "</style>"
   ]
  },
  {
   "cell_type": "code",
   "execution_count": 4,
   "metadata": {},
   "outputs": [],
   "source": [
    "import pandas as pd\n",
    "import numpy as np\n",
    "from pathlib import Path\n",
    "from sqlalchemy import create_engine"
   ]
  },
  {
   "cell_type": "code",
   "execution_count": 5,
   "metadata": {},
   "outputs": [],
   "source": [
    "with open(Path.home().joinpath('.pgpass')) as auth:\n",
    "    host, port, table, user, _ = auth.read().rstrip().split(':')\n",
    "    \n",
    "engine = create_engine(f'postgresql+psycopg2://{user}:@{host}:{port}/{table}')"
   ]
  },
  {
   "cell_type": "markdown",
   "metadata": {},
   "source": [
    "Данные для этого задания были частично взяты из датасета Sample Superstore https://datalens.yandex.ru/marketplace/f2e0000r63qkp2ywqpco с необходимой корректировкой под условия задачи."
   ]
  },
  {
   "cell_type": "code",
   "execution_count": 17,
   "metadata": {},
   "outputs": [
    {
     "data": {
      "text/html": [
       "<div>\n",
       "<style scoped>\n",
       "    .dataframe tbody tr th:only-of-type {\n",
       "        vertical-align: middle;\n",
       "    }\n",
       "\n",
       "    .dataframe tbody tr th {\n",
       "        vertical-align: top;\n",
       "    }\n",
       "\n",
       "    .dataframe thead th {\n",
       "        text-align: right;\n",
       "    }\n",
       "</style>\n",
       "<table border=\"1\" class=\"dataframe\">\n",
       "  <thead>\n",
       "    <tr style=\"text-align: right;\">\n",
       "      <th></th>\n",
       "      <th>customer_name</th>\n",
       "      <th>order_id</th>\n",
       "      <th>order_date</th>\n",
       "      <th>quantity</th>\n",
       "      <th>product_name</th>\n",
       "      <th>price</th>\n",
       "    </tr>\n",
       "  </thead>\n",
       "  <tbody>\n",
       "    <tr>\n",
       "      <th>0</th>\n",
       "      <td>Art Ferguson</td>\n",
       "      <td>CA-2017-125269</td>\n",
       "      <td>2021-04-24</td>\n",
       "      <td>1</td>\n",
       "      <td>iPhone</td>\n",
       "      <td>999</td>\n",
       "    </tr>\n",
       "    <tr>\n",
       "      <th>1</th>\n",
       "      <td>Raymond Buch</td>\n",
       "      <td>CA-2016-166674</td>\n",
       "      <td>2021-04-01</td>\n",
       "      <td>6</td>\n",
       "      <td>MacBook Air</td>\n",
       "      <td>1000</td>\n",
       "    </tr>\n",
       "    <tr>\n",
       "      <th>2</th>\n",
       "      <td>Darren Budd</td>\n",
       "      <td>CA-2016-110975</td>\n",
       "      <td>2021-12-25</td>\n",
       "      <td>2</td>\n",
       "      <td>MacBook Pro</td>\n",
       "      <td>1300</td>\n",
       "    </tr>\n",
       "    <tr>\n",
       "      <th>3</th>\n",
       "      <td>Theresa Swint</td>\n",
       "      <td>CA-2016-120005</td>\n",
       "      <td>2021-03-03</td>\n",
       "      <td>3</td>\n",
       "      <td>iPad</td>\n",
       "      <td>900</td>\n",
       "    </tr>\n",
       "    <tr>\n",
       "      <th>4</th>\n",
       "      <td>Russell D'Ascenzo</td>\n",
       "      <td>CA-2017-125115</td>\n",
       "      <td>2021-04-10</td>\n",
       "      <td>3</td>\n",
       "      <td>Accecories</td>\n",
       "      <td>50</td>\n",
       "    </tr>\n",
       "  </tbody>\n",
       "</table>\n",
       "</div>"
      ],
      "text/plain": [
       "       customer_name        order_id order_date  quantity product_name  price\n",
       "0       Art Ferguson  CA-2017-125269 2021-04-24         1       iPhone    999\n",
       "1       Raymond Buch  CA-2016-166674 2021-04-01         6  MacBook Air   1000\n",
       "2        Darren Budd  CA-2016-110975 2021-12-25         2  MacBook Pro   1300\n",
       "3      Theresa Swint  CA-2016-120005 2021-03-03         3         iPad    900\n",
       "4  Russell D'Ascenzo  CA-2017-125115 2021-04-10         3   Accecories     50"
      ]
     },
     "execution_count": 17,
     "metadata": {},
     "output_type": "execute_result"
    }
   ],
   "source": [
    "orders = pd.read_csv('~/store_data.csv', index_col=0, parse_dates=['order_date'])\n",
    "orders.head()"
   ]
  },
  {
   "cell_type": "code",
   "execution_count": 12,
   "metadata": {},
   "outputs": [],
   "source": [
    "orders.to_sql('orders', engine, if_exists='replace')"
   ]
  },
  {
   "cell_type": "markdown",
   "metadata": {},
   "source": [
    "Первый вариант решения — универсальный и подходящий для большинства СУБД, включая SQLite. В запросе мы выполним поиск заказов, в которых присутствуют оба искомых продукта: iPhone и Airpods, и выберем разницу между результатом этого запроса и множеством заказов, в котором присутствует только iPhone."
   ]
  },
  {
   "cell_type": "code",
   "execution_count": 9,
   "metadata": {},
   "outputs": [],
   "source": [
    "query = '''\n",
    "SELECT DISTINCT order_id, customer_name\n",
    "FROM orders\n",
    "WHERE product_name = 'iPhone'\n",
    "EXCEPT\n",
    "SELECT\n",
    "  o1.order_id\n",
    "  , o1.customer_name\n",
    "FROM orders AS o1, orders AS o2\n",
    "WHERE o1.product_name = 'iPhone'\n",
    "  AND o2.product_name = 'Airpods'\n",
    "  AND o1.customer_name = o2.customer_name\n",
    "  AND o1.order_id = o2.order_id;\n",
    "'''"
   ]
  },
  {
   "cell_type": "code",
   "execution_count": 10,
   "metadata": {},
   "outputs": [
    {
     "data": {
      "text/html": [
       "<div>\n",
       "<style scoped>\n",
       "    .dataframe tbody tr th:only-of-type {\n",
       "        vertical-align: middle;\n",
       "    }\n",
       "\n",
       "    .dataframe tbody tr th {\n",
       "        vertical-align: top;\n",
       "    }\n",
       "\n",
       "    .dataframe thead th {\n",
       "        text-align: right;\n",
       "    }\n",
       "</style>\n",
       "<table border=\"1\" class=\"dataframe\">\n",
       "  <thead>\n",
       "    <tr style=\"text-align: right;\">\n",
       "      <th></th>\n",
       "      <th>order_id</th>\n",
       "      <th>customer_name</th>\n",
       "    </tr>\n",
       "  </thead>\n",
       "  <tbody>\n",
       "    <tr>\n",
       "      <th>0</th>\n",
       "      <td>US-2017-165344</td>\n",
       "      <td>Sean Braxton</td>\n",
       "    </tr>\n",
       "    <tr>\n",
       "      <th>1</th>\n",
       "      <td>US-2014-120740</td>\n",
       "      <td>Paul Stevenson</td>\n",
       "    </tr>\n",
       "    <tr>\n",
       "      <th>2</th>\n",
       "      <td>CA-2016-161543</td>\n",
       "      <td>Roger Demir</td>\n",
       "    </tr>\n",
       "    <tr>\n",
       "      <th>3</th>\n",
       "      <td>CA-2015-135853</td>\n",
       "      <td>Cynthia Arntzen</td>\n",
       "    </tr>\n",
       "    <tr>\n",
       "      <th>4</th>\n",
       "      <td>US-2015-163433</td>\n",
       "      <td>Michael Paige</td>\n",
       "    </tr>\n",
       "    <tr>\n",
       "      <th>...</th>\n",
       "      <td>...</td>\n",
       "      <td>...</td>\n",
       "    </tr>\n",
       "    <tr>\n",
       "      <th>255</th>\n",
       "      <td>CA-2016-125080</td>\n",
       "      <td>Victoria Wilson</td>\n",
       "    </tr>\n",
       "    <tr>\n",
       "      <th>256</th>\n",
       "      <td>CA-2017-121027</td>\n",
       "      <td>Helen Wasserman</td>\n",
       "    </tr>\n",
       "    <tr>\n",
       "      <th>257</th>\n",
       "      <td>CA-2017-151981</td>\n",
       "      <td>Gary Mitchum</td>\n",
       "    </tr>\n",
       "    <tr>\n",
       "      <th>258</th>\n",
       "      <td>US-2014-103905</td>\n",
       "      <td>Arthur Wiediger</td>\n",
       "    </tr>\n",
       "    <tr>\n",
       "      <th>259</th>\n",
       "      <td>CA-2017-112515</td>\n",
       "      <td>Alan Schoenberger</td>\n",
       "    </tr>\n",
       "  </tbody>\n",
       "</table>\n",
       "<p>260 rows × 2 columns</p>\n",
       "</div>"
      ],
      "text/plain": [
       "           order_id      customer_name\n",
       "0    US-2017-165344       Sean Braxton\n",
       "1    US-2014-120740     Paul Stevenson\n",
       "2    CA-2016-161543        Roger Demir\n",
       "3    CA-2015-135853    Cynthia Arntzen\n",
       "4    US-2015-163433      Michael Paige\n",
       "..              ...                ...\n",
       "255  CA-2016-125080    Victoria Wilson\n",
       "256  CA-2017-121027    Helen Wasserman\n",
       "257  CA-2017-151981       Gary Mitchum\n",
       "258  US-2014-103905    Arthur Wiediger\n",
       "259  CA-2017-112515  Alan Schoenberger\n",
       "\n",
       "[260 rows x 2 columns]"
      ]
     },
     "execution_count": 10,
     "metadata": {},
     "output_type": "execute_result"
    }
   ],
   "source": [
    "pd.read_sql(query, engine)"
   ]
  },
  {
   "cell_type": "markdown",
   "metadata": {},
   "source": [
    "Второй вариант решения, реализуемый в PostgreSQL, через сравнение массивов. В нем мы генерируем массив из продуктов в каждом заказе и сравниваем с массивом, в котором присутствуют оба искомых товара."
   ]
  },
  {
   "cell_type": "code",
   "execution_count": 11,
   "metadata": {},
   "outputs": [],
   "source": [
    "query = '''\n",
    "SELECT DISTINCT customer_name, order_id\n",
    "FROM orders\n",
    "WHERE product_name = 'iPhone'\n",
    "EXCEPT\n",
    "SELECT customer_name, order_id\n",
    "FROM orders\n",
    "GROUP BY customer_name, order_id\n",
    "HAVING ARRAY_AGG(product_name) @> ARRAY['iPhone', 'Airpods'];\n",
    "'''"
   ]
  },
  {
   "cell_type": "code",
   "execution_count": 12,
   "metadata": {},
   "outputs": [
    {
     "data": {
      "text/html": [
       "<div>\n",
       "<style scoped>\n",
       "    .dataframe tbody tr th:only-of-type {\n",
       "        vertical-align: middle;\n",
       "    }\n",
       "\n",
       "    .dataframe tbody tr th {\n",
       "        vertical-align: top;\n",
       "    }\n",
       "\n",
       "    .dataframe thead th {\n",
       "        text-align: right;\n",
       "    }\n",
       "</style>\n",
       "<table border=\"1\" class=\"dataframe\">\n",
       "  <thead>\n",
       "    <tr style=\"text-align: right;\">\n",
       "      <th></th>\n",
       "      <th>customer_name</th>\n",
       "      <th>order_id</th>\n",
       "    </tr>\n",
       "  </thead>\n",
       "  <tbody>\n",
       "    <tr>\n",
       "      <th>0</th>\n",
       "      <td>Lena Cacioppo</td>\n",
       "      <td>US-2017-125647</td>\n",
       "    </tr>\n",
       "    <tr>\n",
       "      <th>1</th>\n",
       "      <td>Steven Cartwright</td>\n",
       "      <td>CA-2015-119627</td>\n",
       "    </tr>\n",
       "    <tr>\n",
       "      <th>2</th>\n",
       "      <td>Adam Shillingsburg</td>\n",
       "      <td>CA-2017-136448</td>\n",
       "    </tr>\n",
       "    <tr>\n",
       "      <th>3</th>\n",
       "      <td>Pete Armstrong</td>\n",
       "      <td>US-2016-158309</td>\n",
       "    </tr>\n",
       "    <tr>\n",
       "      <th>4</th>\n",
       "      <td>Eudokia Martin</td>\n",
       "      <td>US-2015-159499</td>\n",
       "    </tr>\n",
       "    <tr>\n",
       "      <th>...</th>\n",
       "      <td>...</td>\n",
       "      <td>...</td>\n",
       "    </tr>\n",
       "    <tr>\n",
       "      <th>255</th>\n",
       "      <td>Frank Olsen</td>\n",
       "      <td>CA-2016-112578</td>\n",
       "    </tr>\n",
       "    <tr>\n",
       "      <th>256</th>\n",
       "      <td>Luke Schmidt</td>\n",
       "      <td>CA-2017-131618</td>\n",
       "    </tr>\n",
       "    <tr>\n",
       "      <th>257</th>\n",
       "      <td>Deborah Brumfield</td>\n",
       "      <td>CA-2014-107181</td>\n",
       "    </tr>\n",
       "    <tr>\n",
       "      <th>258</th>\n",
       "      <td>Rob Lucas</td>\n",
       "      <td>CA-2014-133830</td>\n",
       "    </tr>\n",
       "    <tr>\n",
       "      <th>259</th>\n",
       "      <td>Joy Bell-</td>\n",
       "      <td>CA-2016-121993</td>\n",
       "    </tr>\n",
       "  </tbody>\n",
       "</table>\n",
       "<p>260 rows × 2 columns</p>\n",
       "</div>"
      ],
      "text/plain": [
       "          customer_name        order_id\n",
       "0         Lena Cacioppo  US-2017-125647\n",
       "1     Steven Cartwright  CA-2015-119627\n",
       "2    Adam Shillingsburg  CA-2017-136448\n",
       "3        Pete Armstrong  US-2016-158309\n",
       "4        Eudokia Martin  US-2015-159499\n",
       "..                  ...             ...\n",
       "255         Frank Olsen  CA-2016-112578\n",
       "256        Luke Schmidt  CA-2017-131618\n",
       "257   Deborah Brumfield  CA-2014-107181\n",
       "258           Rob Lucas  CA-2014-133830\n",
       "259           Joy Bell-  CA-2016-121993\n",
       "\n",
       "[260 rows x 2 columns]"
      ]
     },
     "execution_count": 12,
     "metadata": {},
     "output_type": "execute_result"
    }
   ],
   "source": [
    "pd.read_sql(query, engine)"
   ]
  },
  {
   "cell_type": "markdown",
   "metadata": {},
   "source": [
    "Чтобы определить количество таких клиентов в каждом месяце, добавим в запрос дату покупки и сгруппируем по концу месяца."
   ]
  },
  {
   "cell_type": "code",
   "execution_count": 13,
   "metadata": {},
   "outputs": [],
   "source": [
    "query = '''\n",
    "SELECT\n",
    "  DATE_TRUNC('month', order_date::DATE) AS month\n",
    "  , COUNT(*)\n",
    "FROM (\n",
    "  SELECT DISTINCT order_date, customer_name, order_id FROM orders\n",
    "  WHERE product_name = 'iPhone'\n",
    "  EXCEPT\n",
    "  SELECT order_date, customer_name, order_id\n",
    "  FROM orders\n",
    "  GROUP BY 1,2,3\n",
    "  HAVING ARRAY_AGG(product_name) @> ARRAY['iPhone', 'Airpods']\n",
    ") AS t\n",
    "GROUP BY 1\n",
    "ORDER BY 1;\n",
    "'''"
   ]
  },
  {
   "cell_type": "code",
   "execution_count": 14,
   "metadata": {},
   "outputs": [
    {
     "data": {
      "text/html": [
       "<div>\n",
       "<style scoped>\n",
       "    .dataframe tbody tr th:only-of-type {\n",
       "        vertical-align: middle;\n",
       "    }\n",
       "\n",
       "    .dataframe tbody tr th {\n",
       "        vertical-align: top;\n",
       "    }\n",
       "\n",
       "    .dataframe thead th {\n",
       "        text-align: right;\n",
       "    }\n",
       "</style>\n",
       "<table border=\"1\" class=\"dataframe\">\n",
       "  <thead>\n",
       "    <tr style=\"text-align: right;\">\n",
       "      <th></th>\n",
       "      <th>month</th>\n",
       "      <th>count</th>\n",
       "    </tr>\n",
       "  </thead>\n",
       "  <tbody>\n",
       "    <tr>\n",
       "      <th>0</th>\n",
       "      <td>2020-12-31 21:00:00+00:00</td>\n",
       "      <td>7</td>\n",
       "    </tr>\n",
       "    <tr>\n",
       "      <th>1</th>\n",
       "      <td>2021-01-31 21:00:00+00:00</td>\n",
       "      <td>5</td>\n",
       "    </tr>\n",
       "    <tr>\n",
       "      <th>2</th>\n",
       "      <td>2021-02-28 21:00:00+00:00</td>\n",
       "      <td>17</td>\n",
       "    </tr>\n",
       "    <tr>\n",
       "      <th>3</th>\n",
       "      <td>2021-03-31 21:00:00+00:00</td>\n",
       "      <td>14</td>\n",
       "    </tr>\n",
       "    <tr>\n",
       "      <th>4</th>\n",
       "      <td>2021-04-30 21:00:00+00:00</td>\n",
       "      <td>20</td>\n",
       "    </tr>\n",
       "    <tr>\n",
       "      <th>5</th>\n",
       "      <td>2021-05-31 21:00:00+00:00</td>\n",
       "      <td>21</td>\n",
       "    </tr>\n",
       "    <tr>\n",
       "      <th>6</th>\n",
       "      <td>2021-06-30 21:00:00+00:00</td>\n",
       "      <td>20</td>\n",
       "    </tr>\n",
       "    <tr>\n",
       "      <th>7</th>\n",
       "      <td>2021-07-31 21:00:00+00:00</td>\n",
       "      <td>18</td>\n",
       "    </tr>\n",
       "    <tr>\n",
       "      <th>8</th>\n",
       "      <td>2021-08-31 21:00:00+00:00</td>\n",
       "      <td>38</td>\n",
       "    </tr>\n",
       "    <tr>\n",
       "      <th>9</th>\n",
       "      <td>2021-09-30 21:00:00+00:00</td>\n",
       "      <td>28</td>\n",
       "    </tr>\n",
       "    <tr>\n",
       "      <th>10</th>\n",
       "      <td>2021-10-31 21:00:00+00:00</td>\n",
       "      <td>36</td>\n",
       "    </tr>\n",
       "    <tr>\n",
       "      <th>11</th>\n",
       "      <td>2021-11-30 21:00:00+00:00</td>\n",
       "      <td>36</td>\n",
       "    </tr>\n",
       "  </tbody>\n",
       "</table>\n",
       "</div>"
      ],
      "text/plain": [
       "                       month  count\n",
       "0  2020-12-31 21:00:00+00:00      7\n",
       "1  2021-01-31 21:00:00+00:00      5\n",
       "2  2021-02-28 21:00:00+00:00     17\n",
       "3  2021-03-31 21:00:00+00:00     14\n",
       "4  2021-04-30 21:00:00+00:00     20\n",
       "5  2021-05-31 21:00:00+00:00     21\n",
       "6  2021-06-30 21:00:00+00:00     20\n",
       "7  2021-07-31 21:00:00+00:00     18\n",
       "8  2021-08-31 21:00:00+00:00     38\n",
       "9  2021-09-30 21:00:00+00:00     28\n",
       "10 2021-10-31 21:00:00+00:00     36\n",
       "11 2021-11-30 21:00:00+00:00     36"
      ]
     },
     "execution_count": 14,
     "metadata": {},
     "output_type": "execute_result"
    }
   ],
   "source": [
    "pd.read_sql(query, engine)"
   ]
  },
  {
   "cell_type": "markdown",
   "metadata": {},
   "source": [
    "Проверим результат, выполнив решение задачи на python"
   ]
  },
  {
   "cell_type": "code",
   "execution_count": 15,
   "metadata": {},
   "outputs": [
    {
     "data": {
      "text/html": [
       "<div>\n",
       "<style scoped>\n",
       "    .dataframe tbody tr th:only-of-type {\n",
       "        vertical-align: middle;\n",
       "    }\n",
       "\n",
       "    .dataframe tbody tr th {\n",
       "        vertical-align: top;\n",
       "    }\n",
       "\n",
       "    .dataframe thead th {\n",
       "        text-align: right;\n",
       "    }\n",
       "</style>\n",
       "<table border=\"1\" class=\"dataframe\">\n",
       "  <thead>\n",
       "    <tr style=\"text-align: right;\">\n",
       "      <th></th>\n",
       "      <th>order_id</th>\n",
       "      <th>customer_name</th>\n",
       "    </tr>\n",
       "  </thead>\n",
       "  <tbody>\n",
       "    <tr>\n",
       "      <th>4</th>\n",
       "      <td>CA-2014-101560</td>\n",
       "      <td>Chris Selesnick</td>\n",
       "    </tr>\n",
       "    <tr>\n",
       "      <th>6</th>\n",
       "      <td>CA-2014-102274</td>\n",
       "      <td>Dave Hallsten</td>\n",
       "    </tr>\n",
       "    <tr>\n",
       "      <th>9</th>\n",
       "      <td>CA-2014-102988</td>\n",
       "      <td>Greg Maxwell</td>\n",
       "    </tr>\n",
       "    <tr>\n",
       "      <th>29</th>\n",
       "      <td>CA-2014-105872</td>\n",
       "      <td>James Galang</td>\n",
       "    </tr>\n",
       "    <tr>\n",
       "      <th>34</th>\n",
       "      <td>CA-2014-107181</td>\n",
       "      <td>Deborah Brumfield</td>\n",
       "    </tr>\n",
       "    <tr>\n",
       "      <th>...</th>\n",
       "      <td>...</td>\n",
       "      <td>...</td>\n",
       "    </tr>\n",
       "    <tr>\n",
       "      <th>1565</th>\n",
       "      <td>US-2017-148054</td>\n",
       "      <td>Nick Zandusky</td>\n",
       "    </tr>\n",
       "    <tr>\n",
       "      <th>1572</th>\n",
       "      <td>US-2017-155999</td>\n",
       "      <td>Jay Kimmel</td>\n",
       "    </tr>\n",
       "    <tr>\n",
       "      <th>1577</th>\n",
       "      <td>US-2017-165344</td>\n",
       "      <td>Sean Braxton</td>\n",
       "    </tr>\n",
       "    <tr>\n",
       "      <th>1579</th>\n",
       "      <td>US-2017-165869</td>\n",
       "      <td>Luke Schmidt</td>\n",
       "    </tr>\n",
       "    <tr>\n",
       "      <th>1582</th>\n",
       "      <td>US-2017-166688</td>\n",
       "      <td>Rick Duston</td>\n",
       "    </tr>\n",
       "  </tbody>\n",
       "</table>\n",
       "<p>260 rows × 2 columns</p>\n",
       "</div>"
      ],
      "text/plain": [
       "            order_id      customer_name\n",
       "4     CA-2014-101560    Chris Selesnick\n",
       "6     CA-2014-102274      Dave Hallsten\n",
       "9     CA-2014-102988       Greg Maxwell\n",
       "29    CA-2014-105872       James Galang\n",
       "34    CA-2014-107181  Deborah Brumfield\n",
       "...              ...                ...\n",
       "1565  US-2017-148054      Nick Zandusky\n",
       "1572  US-2017-155999         Jay Kimmel\n",
       "1577  US-2017-165344       Sean Braxton\n",
       "1579  US-2017-165869       Luke Schmidt\n",
       "1582  US-2017-166688        Rick Duston\n",
       "\n",
       "[260 rows x 2 columns]"
      ]
     },
     "execution_count": 15,
     "metadata": {},
     "output_type": "execute_result"
    }
   ],
   "source": [
    "orders.groupby(['order_id', 'customer_name'])['product_name'] \\\n",
    "      .apply(list) \\\n",
    "      .apply(lambda x: 'iPhone' in x and 'Airpods' not in x) \\\n",
    "      .reset_index() \\\n",
    "      .query('product_name == True')[['order_id', 'customer_name']]"
   ]
  },
  {
   "cell_type": "code",
   "execution_count": 18,
   "metadata": {},
   "outputs": [
    {
     "data": {
      "text/html": [
       "<div>\n",
       "<style scoped>\n",
       "    .dataframe tbody tr th:only-of-type {\n",
       "        vertical-align: middle;\n",
       "    }\n",
       "\n",
       "    .dataframe tbody tr th {\n",
       "        vertical-align: top;\n",
       "    }\n",
       "\n",
       "    .dataframe thead th {\n",
       "        text-align: right;\n",
       "    }\n",
       "</style>\n",
       "<table border=\"1\" class=\"dataframe\">\n",
       "  <thead>\n",
       "    <tr style=\"text-align: right;\">\n",
       "      <th></th>\n",
       "      <th>order_date</th>\n",
       "      <th>order_id</th>\n",
       "    </tr>\n",
       "  </thead>\n",
       "  <tbody>\n",
       "    <tr>\n",
       "      <th>0</th>\n",
       "      <td>2021-01-31</td>\n",
       "      <td>7</td>\n",
       "    </tr>\n",
       "    <tr>\n",
       "      <th>1</th>\n",
       "      <td>2021-02-28</td>\n",
       "      <td>5</td>\n",
       "    </tr>\n",
       "    <tr>\n",
       "      <th>2</th>\n",
       "      <td>2021-03-31</td>\n",
       "      <td>17</td>\n",
       "    </tr>\n",
       "    <tr>\n",
       "      <th>3</th>\n",
       "      <td>2021-04-30</td>\n",
       "      <td>14</td>\n",
       "    </tr>\n",
       "    <tr>\n",
       "      <th>4</th>\n",
       "      <td>2021-05-31</td>\n",
       "      <td>20</td>\n",
       "    </tr>\n",
       "    <tr>\n",
       "      <th>5</th>\n",
       "      <td>2021-06-30</td>\n",
       "      <td>21</td>\n",
       "    </tr>\n",
       "    <tr>\n",
       "      <th>6</th>\n",
       "      <td>2021-07-31</td>\n",
       "      <td>20</td>\n",
       "    </tr>\n",
       "    <tr>\n",
       "      <th>7</th>\n",
       "      <td>2021-08-31</td>\n",
       "      <td>18</td>\n",
       "    </tr>\n",
       "    <tr>\n",
       "      <th>8</th>\n",
       "      <td>2021-09-30</td>\n",
       "      <td>38</td>\n",
       "    </tr>\n",
       "    <tr>\n",
       "      <th>9</th>\n",
       "      <td>2021-10-31</td>\n",
       "      <td>28</td>\n",
       "    </tr>\n",
       "    <tr>\n",
       "      <th>10</th>\n",
       "      <td>2021-11-30</td>\n",
       "      <td>36</td>\n",
       "    </tr>\n",
       "    <tr>\n",
       "      <th>11</th>\n",
       "      <td>2021-12-31</td>\n",
       "      <td>36</td>\n",
       "    </tr>\n",
       "  </tbody>\n",
       "</table>\n",
       "</div>"
      ],
      "text/plain": [
       "   order_date  order_id\n",
       "0  2021-01-31         7\n",
       "1  2021-02-28         5\n",
       "2  2021-03-31        17\n",
       "3  2021-04-30        14\n",
       "4  2021-05-31        20\n",
       "5  2021-06-30        21\n",
       "6  2021-07-31        20\n",
       "7  2021-08-31        18\n",
       "8  2021-09-30        38\n",
       "9  2021-10-31        28\n",
       "10 2021-11-30        36\n",
       "11 2021-12-31        36"
      ]
     },
     "execution_count": 18,
     "metadata": {},
     "output_type": "execute_result"
    }
   ],
   "source": [
    "orders.groupby(['order_date', 'order_id', 'customer_name'])['product_name'] \\\n",
    "      .apply(list) \\\n",
    "      .apply(lambda x: 'iPhone' in x and 'Airpods' not in x) \\\n",
    "      .reset_index() \\\n",
    "      .query('product_name == True') \\\n",
    "      .groupby(pd.Grouper(key='order_date', freq='M'))['order_id'].count() \\\n",
    "      .reset_index()"
   ]
  },
  {
   "cell_type": "markdown",
   "metadata": {},
   "source": [
    "## Задача №2\n",
    "Дана таблица с историей подписки. Есть начало и конец периода подписки, и статус.\n",
    "\n",
    "|customer_id|membership_start_date|membership_end_date|membership_status|\n",
    "|--|--|--|--|\n",
    "|114\t|2015-04-01\t|2015-10-01\t|Paid|\n",
    "|114\t|2015-02-15\t|2015-03-15\t|Paid|\n",
    "|114\t|2015-01-01\t|2015-02-15\t|Free|\n",
    "|114\t|2015-03-15\t|2015-04-01\t|Non-Member|\n",
    "|114\t|2015-10-01\t|2016-01-01\t|Paid|\n",
    "\n",
    "Нужно получить результат, как в примере ниже:\n",
    "\n",
    "|customer_id|\tchange_date|\tevent|\n",
    "|--|--|--|\n",
    "|114\t|2015-01-01\t|WarmStart|\n",
    "|114\t|2015-02-15\t|Convert|\n",
    "|114\t|2015-03-15\t|Cancel|\n",
    "|114\t|2015-04-01\t|ColdStart|\n",
    "|114\t|2015-10-01\t|Renewal|\n",
    "|114\t|2016-01-01\t|Cancel|\n",
    "\n",
    "**Условие для типа подписки**\n",
    "\n",
    "- Free -> Paid: Convert\n",
    "- Paid -> Free: ReverseConvert\n",
    "- Paid -> Non-Member: Cancel\n",
    "- Free -> Non-Member: Cancel\n",
    "- Non-Member -> Paid: ColdStart\n",
    "- Non-Member -> Free: WarmStart\n",
    "- Free -> Free: Renewal\n",
    "- Paid -> Paid: Renewal"
   ]
  },
  {
   "cell_type": "code",
   "execution_count": 19,
   "metadata": {},
   "outputs": [],
   "source": [
    "query = '''\n",
    "WITH subs(\n",
    "  customer_id\n",
    "  , membership_start_date\n",
    "  , membership_end_date\n",
    "  , membership_status\n",
    ") AS (\n",
    "  SELECT 114, '2015-01-01'::DATE, '2015-02-15'::DATE, 'Free'\n",
    "  UNION SELECT 114, '2015-02-15', '2015-03-15', 'Paid'\n",
    "  UNION SELECT 114, '2015-03-15', '2015-04-01', 'Non-Member'\n",
    "  UNION SELECT 114, '2015-04-01', '2015-10-01', 'Paid'\n",
    "  UNION SELECT 114, '2015-10-01', '2016-01-01', 'Paid'\n",
    "),\n",
    "events AS (\n",
    "  SELECT\n",
    "    COALESCE(s1.customer_id, s2.customer_id) AS customer_id\n",
    "    , COALESCE(s1.membership_start_date, s2.membership_end_date) AS change_date\n",
    "    , COALESCE(s1.membership_status, 'Non-Member') AS end_event\n",
    "    , COALESCE(s2.membership_status, 'Non-Member') AS start_event\n",
    "  FROM subs AS s1\n",
    "  FULL OUTER JOIN subs AS s2\n",
    "  ON s1.membership_start_date = s2.membership_end_date\n",
    ")\n",
    "\n",
    "SELECT\n",
    "  customer_id\n",
    "  , change_date\n",
    "  , CASE\n",
    "      WHEN start_event = 'Free' AND end_event = 'Paid' THEN 'Convert'\n",
    "      WHEN start_event = 'Paid' AND end_event = 'Free' THEN 'ReverseConvert'\n",
    "      WHEN start_event = 'Paid' AND end_event = 'Non-Member' THEN 'Cancel'\n",
    "      WHEN start_event = 'Free' AND end_event = 'Non-Member' THEN 'Cancel'\n",
    "      WHEN start_event = 'Non-Member' AND end_event = 'Paid' THEN 'ColdStart'\n",
    "      WHEN start_event = 'Non-Member' AND end_event = 'Free' THEN 'WarmStart'\n",
    "      WHEN start_event = 'Free' AND end_event = 'Free' THEN 'Renewal'\n",
    "      WHEN start_event = 'Paid' AND end_event = 'Paid' THEN 'Renewal'\n",
    "      END AS event\n",
    "FROM events\n",
    "ORDER BY change_date;\n",
    "'''"
   ]
  },
  {
   "cell_type": "code",
   "execution_count": 20,
   "metadata": {},
   "outputs": [
    {
     "data": {
      "text/html": [
       "<div>\n",
       "<style scoped>\n",
       "    .dataframe tbody tr th:only-of-type {\n",
       "        vertical-align: middle;\n",
       "    }\n",
       "\n",
       "    .dataframe tbody tr th {\n",
       "        vertical-align: top;\n",
       "    }\n",
       "\n",
       "    .dataframe thead th {\n",
       "        text-align: right;\n",
       "    }\n",
       "</style>\n",
       "<table border=\"1\" class=\"dataframe\">\n",
       "  <thead>\n",
       "    <tr style=\"text-align: right;\">\n",
       "      <th></th>\n",
       "      <th>customer_id</th>\n",
       "      <th>change_date</th>\n",
       "      <th>event</th>\n",
       "    </tr>\n",
       "  </thead>\n",
       "  <tbody>\n",
       "    <tr>\n",
       "      <th>0</th>\n",
       "      <td>114</td>\n",
       "      <td>2015-01-01</td>\n",
       "      <td>WarmStart</td>\n",
       "    </tr>\n",
       "    <tr>\n",
       "      <th>1</th>\n",
       "      <td>114</td>\n",
       "      <td>2015-02-15</td>\n",
       "      <td>Convert</td>\n",
       "    </tr>\n",
       "    <tr>\n",
       "      <th>2</th>\n",
       "      <td>114</td>\n",
       "      <td>2015-03-15</td>\n",
       "      <td>Cancel</td>\n",
       "    </tr>\n",
       "    <tr>\n",
       "      <th>3</th>\n",
       "      <td>114</td>\n",
       "      <td>2015-04-01</td>\n",
       "      <td>ColdStart</td>\n",
       "    </tr>\n",
       "    <tr>\n",
       "      <th>4</th>\n",
       "      <td>114</td>\n",
       "      <td>2015-10-01</td>\n",
       "      <td>Renewal</td>\n",
       "    </tr>\n",
       "    <tr>\n",
       "      <th>5</th>\n",
       "      <td>114</td>\n",
       "      <td>2016-01-01</td>\n",
       "      <td>Cancel</td>\n",
       "    </tr>\n",
       "  </tbody>\n",
       "</table>\n",
       "</div>"
      ],
      "text/plain": [
       "   customer_id change_date      event\n",
       "0          114  2015-01-01  WarmStart\n",
       "1          114  2015-02-15    Convert\n",
       "2          114  2015-03-15     Cancel\n",
       "3          114  2015-04-01  ColdStart\n",
       "4          114  2015-10-01    Renewal\n",
       "5          114  2016-01-01     Cancel"
      ]
     },
     "execution_count": 20,
     "metadata": {},
     "output_type": "execute_result"
    }
   ],
   "source": [
    "pd.read_sql(query, engine)"
   ]
  },
  {
   "cell_type": "code",
   "execution_count": 21,
   "metadata": {},
   "outputs": [],
   "source": [
    "subs = pd.DataFrame({\n",
    "    'customer_id': [114] * 5,\n",
    "    'membership_start_date': [\n",
    "        '2015-01-01',\n",
    "        '2015-02-15',\n",
    "        '2015-03-15',\n",
    "        '2015-04-01',\n",
    "        '2015-10-01'\n",
    "    ],\n",
    "    'membership_end_date': [\n",
    "        '2015-02-15',\n",
    "        '2015-03-15',\n",
    "        '2015-04-01',\n",
    "        '2015-10-01',\n",
    "        '2016-01-01'\n",
    "    ],\n",
    "    'membership_status': [\n",
    "        'Free',\n",
    "        'Paid',\n",
    "        'Non-Member',\n",
    "        'Paid',\n",
    "        'Paid'\n",
    "    ]\n",
    "})"
   ]
  },
  {
   "cell_type": "code",
   "execution_count": 24,
   "metadata": {},
   "outputs": [],
   "source": [
    "change_status_rules = {\n",
    "    'Free'+'Paid': 'Convert',\n",
    "    'Paid'+'Free': 'ReverseConvert',\n",
    "    'Paid'+'Non-Member': 'Cancel',\n",
    "    'Free'+'Non-Member': 'Cancel',\n",
    "    'Non-Member'+'Paid': 'ColdStart',\n",
    "    'Non-Member'+'Free': 'WarmStart',\n",
    "    'Free'+'Free': 'Renewal',\n",
    "    'Paid'+'Paid': 'Renewal'\n",
    "}"
   ]
  },
  {
   "cell_type": "code",
   "execution_count": 31,
   "metadata": {},
   "outputs": [],
   "source": [
    "events = subs[['customer_id', 'membership_start_date', 'membership_status']] \\\n",
    "  .merge(\n",
    "      subs[['membership_end_date', 'membership_status']],\n",
    "      how='outer',\n",
    "      left_on='membership_start_date',\n",
    "      right_on='membership_end_date',\n",
    "      suffixes=('_to', '_from')\n",
    "  )\n",
    "events = events.fillna(\n",
    "    {\n",
    "        'customer_id': 114,\n",
    "        'membership_start_date': events['membership_end_date'],\n",
    "        'membership_status_to': 'Non-Member',\n",
    "        'membership_status_from': 'Non-Member'\n",
    "    }\n",
    "  )"
   ]
  },
  {
   "cell_type": "code",
   "execution_count": 32,
   "metadata": {},
   "outputs": [
    {
     "data": {
      "text/html": [
       "<div>\n",
       "<style scoped>\n",
       "    .dataframe tbody tr th:only-of-type {\n",
       "        vertical-align: middle;\n",
       "    }\n",
       "\n",
       "    .dataframe tbody tr th {\n",
       "        vertical-align: top;\n",
       "    }\n",
       "\n",
       "    .dataframe thead th {\n",
       "        text-align: right;\n",
       "    }\n",
       "</style>\n",
       "<table border=\"1\" class=\"dataframe\">\n",
       "  <thead>\n",
       "    <tr style=\"text-align: right;\">\n",
       "      <th></th>\n",
       "      <th>customer_id</th>\n",
       "      <th>change_date</th>\n",
       "      <th>event</th>\n",
       "    </tr>\n",
       "  </thead>\n",
       "  <tbody>\n",
       "    <tr>\n",
       "      <th>0</th>\n",
       "      <td>114</td>\n",
       "      <td>2015-01-01</td>\n",
       "      <td>WarmStart</td>\n",
       "    </tr>\n",
       "    <tr>\n",
       "      <th>1</th>\n",
       "      <td>114</td>\n",
       "      <td>2015-02-15</td>\n",
       "      <td>Convert</td>\n",
       "    </tr>\n",
       "    <tr>\n",
       "      <th>2</th>\n",
       "      <td>114</td>\n",
       "      <td>2015-03-15</td>\n",
       "      <td>Cancel</td>\n",
       "    </tr>\n",
       "    <tr>\n",
       "      <th>3</th>\n",
       "      <td>114</td>\n",
       "      <td>2015-04-01</td>\n",
       "      <td>ColdStart</td>\n",
       "    </tr>\n",
       "    <tr>\n",
       "      <th>4</th>\n",
       "      <td>114</td>\n",
       "      <td>2015-10-01</td>\n",
       "      <td>Renewal</td>\n",
       "    </tr>\n",
       "    <tr>\n",
       "      <th>5</th>\n",
       "      <td>114</td>\n",
       "      <td>2016-01-01</td>\n",
       "      <td>Cancel</td>\n",
       "    </tr>\n",
       "  </tbody>\n",
       "</table>\n",
       "</div>"
      ],
      "text/plain": [
       "   customer_id change_date      event\n",
       "0          114  2015-01-01  WarmStart\n",
       "1          114  2015-02-15    Convert\n",
       "2          114  2015-03-15     Cancel\n",
       "3          114  2015-04-01  ColdStart\n",
       "4          114  2015-10-01    Renewal\n",
       "5          114  2016-01-01     Cancel"
      ]
     },
     "execution_count": 32,
     "metadata": {},
     "output_type": "execute_result"
    }
   ],
   "source": [
    "events \\\n",
    " .assign(\n",
    "    event=events['membership_status_from'].add(events['membership_status_to']).map(change_status_rules),\n",
    "    customer_id=events['customer_id'].astype(int)  \n",
    ").rename(columns={'membership_start_date': 'change_date'}) \\\n",
    " .drop(['membership_status_to', 'membership_end_date', 'membership_status_from'], axis=1)"
   ]
  },
  {
   "cell_type": "markdown",
   "metadata": {},
   "source": [
    "# Задача №3\n",
    "\n",
    "Дан список символов, нужно написать функцию, возращающую его задом наперед.\n",
    "\n",
    "Например:\n",
    "```python\n",
    "['A', 'B', 'C', 'D', 'E'] => ['E', 'D', 'C', 'B', 'A']\n",
    "```"
   ]
  },
  {
   "cell_type": "markdown",
   "metadata": {},
   "source": [
    "### Решение №1"
   ]
  },
  {
   "cell_type": "code",
   "execution_count": 34,
   "metadata": {},
   "outputs": [
    {
     "name": "stdout",
     "output_type": "stream",
     "text": [
      "ok\n"
     ]
    }
   ],
   "source": [
    "a = ['A', 'B', 'C', 'D', 'E']\n",
    "\n",
    "def reverse(a):\n",
    "    res = []\n",
    "    while a:\n",
    "        res += [a.pop()]\n",
    "    return res\n",
    "\n",
    "assert reverse(a) == ['E', 'D', 'C', 'B', 'A']; print('ok')"
   ]
  },
  {
   "cell_type": "code",
   "execution_count": 35,
   "metadata": {},
   "outputs": [
    {
     "name": "stdout",
     "output_type": "stream",
     "text": [
      "223 ns ± 68.6 ns per loop (mean ± std. dev. of 7 runs, 10000000 loops each)\n"
     ]
    }
   ],
   "source": [
    "%timeit reverse(a)"
   ]
  },
  {
   "cell_type": "markdown",
   "metadata": {},
   "source": [
    "### Решение №2"
   ]
  },
  {
   "cell_type": "code",
   "execution_count": 37,
   "metadata": {},
   "outputs": [
    {
     "name": "stdout",
     "output_type": "stream",
     "text": [
      "ok\n"
     ]
    }
   ],
   "source": [
    "a = ['A', 'B', 'C', 'D', 'E']\n",
    "\n",
    "def reverse(a):\n",
    "    return a[::-1]\n",
    "\n",
    "assert reverse(a) == ['E', 'D', 'C', 'B', 'A']; print('ok')"
   ]
  },
  {
   "cell_type": "code",
   "execution_count": 38,
   "metadata": {},
   "outputs": [
    {
     "name": "stdout",
     "output_type": "stream",
     "text": [
      "294 ns ± 32 ns per loop (mean ± std. dev. of 7 runs, 1000000 loops each)\n"
     ]
    }
   ],
   "source": [
    "%timeit reverse(a)"
   ]
  },
  {
   "cell_type": "markdown",
   "metadata": {},
   "source": [
    "### Решение №3"
   ]
  },
  {
   "cell_type": "code",
   "execution_count": 39,
   "metadata": {},
   "outputs": [
    {
     "name": "stdout",
     "output_type": "stream",
     "text": [
      "ok\n"
     ]
    }
   ],
   "source": [
    "def reverse(a):\n",
    "    return list(reversed(a))\n",
    "\n",
    "assert reverse(a) == ['E', 'D', 'C', 'B', 'A']; print('ok')"
   ]
  },
  {
   "cell_type": "code",
   "execution_count": 40,
   "metadata": {},
   "outputs": [
    {
     "name": "stdout",
     "output_type": "stream",
     "text": [
      "552 ns ± 37.9 ns per loop (mean ± std. dev. of 7 runs, 1000000 loops each)\n"
     ]
    }
   ],
   "source": [
    "%timeit reverse(a)"
   ]
  },
  {
   "cell_type": "markdown",
   "metadata": {},
   "source": [
    "### Решение №4"
   ]
  },
  {
   "cell_type": "code",
   "execution_count": 41,
   "metadata": {},
   "outputs": [
    {
     "name": "stdout",
     "output_type": "stream",
     "text": [
      "ok\n"
     ]
    }
   ],
   "source": [
    "def reverse(a):\n",
    "    a.reverse()\n",
    "    return a\n",
    "\n",
    "assert reverse(a) == ['E', 'D', 'C', 'B', 'A']; print('ok')"
   ]
  },
  {
   "cell_type": "code",
   "execution_count": 42,
   "metadata": {},
   "outputs": [
    {
     "name": "stdout",
     "output_type": "stream",
     "text": [
      "202 ns ± 29.2 ns per loop (mean ± std. dev. of 7 runs, 10000000 loops each)\n"
     ]
    }
   ],
   "source": [
    "%timeit reverse(a)"
   ]
  },
  {
   "cell_type": "markdown",
   "metadata": {},
   "source": [
    "В разрезе производительности можно выделить 1-е и 4-е решения. Последнее предпочтительнее, так как не создает в памяти дополнительного списка."
   ]
  }
 ],
 "metadata": {
  "kernelspec": {
   "display_name": "Python 3",
   "language": "python",
   "name": "python3"
  },
  "language_info": {
   "codemirror_mode": {
    "name": "ipython",
    "version": 3
   },
   "file_extension": ".py",
   "mimetype": "text/x-python",
   "name": "python",
   "nbconvert_exporter": "python",
   "pygments_lexer": "ipython3",
   "version": "3.8.3"
  }
 },
 "nbformat": 4,
 "nbformat_minor": 4
}
