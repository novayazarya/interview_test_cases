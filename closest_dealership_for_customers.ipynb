{
 "cells": [
  {
   "cell_type": "markdown",
   "metadata": {},
   "source": [
    "# Расчет удаленности клиентов от дилерских центров\n",
    "\n",
    "Даны два файла, содержащих идентификаторы и геопривязки (longitude, latitude) центорв продаж и всех их клиентов.\n",
    "Нужно найти:\n",
    "- ближайший к каждому клиенту дилерский центр;\n",
    "- среднее и медиану кратчайших расстояний клиентов до дилерских центров.\n",
    "\n",
    "Инструменты: SQL"
   ]
  },
  {
   "cell_type": "code",
   "execution_count": 1,
   "metadata": {},
   "outputs": [],
   "source": [
    "import pandas as pd\n",
    "import numpy as np\n",
    "from sqlalchemy import create_engine\n",
    "from pathlib import Path"
   ]
  },
  {
   "cell_type": "markdown",
   "metadata": {},
   "source": [
    "В качестве СУБД используется PostgreSQL"
   ]
  },
  {
   "cell_type": "code",
   "execution_count": 51,
   "metadata": {},
   "outputs": [],
   "source": [
    "with open(Path.home().joinpath('.pgpass')) as auth:\n",
    "    host, port, table, user, _ = auth.read().rstrip().split(':')\n",
    "    \n",
    "engine = create_engine(f'postgresql+psycopg2://{user}:@{host}:{port}/{table}')"
   ]
  },
  {
   "cell_type": "code",
   "execution_count": 3,
   "metadata": {},
   "outputs": [
    {
     "data": {
      "text/html": [
       "<div>\n",
       "<style scoped>\n",
       "    .dataframe tbody tr th:only-of-type {\n",
       "        vertical-align: middle;\n",
       "    }\n",
       "\n",
       "    .dataframe tbody tr th {\n",
       "        vertical-align: top;\n",
       "    }\n",
       "\n",
       "    .dataframe thead th {\n",
       "        text-align: right;\n",
       "    }\n",
       "</style>\n",
       "<table border=\"1\" class=\"dataframe\">\n",
       "  <thead>\n",
       "    <tr style=\"text-align: right;\">\n",
       "      <th></th>\n",
       "      <th>customer_id</th>\n",
       "      <th>longitude</th>\n",
       "      <th>latitude</th>\n",
       "    </tr>\n",
       "  </thead>\n",
       "  <tbody>\n",
       "    <tr>\n",
       "      <th>0</th>\n",
       "      <td>2</td>\n",
       "      <td>-90.2625</td>\n",
       "      <td>38.5814</td>\n",
       "    </tr>\n",
       "    <tr>\n",
       "      <th>1</th>\n",
       "      <td>3</td>\n",
       "      <td>-87.2758</td>\n",
       "      <td>30.6143</td>\n",
       "    </tr>\n",
       "    <tr>\n",
       "      <th>2</th>\n",
       "      <td>4</td>\n",
       "      <td>-86.8219</td>\n",
       "      <td>36.0986</td>\n",
       "    </tr>\n",
       "    <tr>\n",
       "      <th>3</th>\n",
       "      <td>5</td>\n",
       "      <td>-80.4582</td>\n",
       "      <td>25.5584</td>\n",
       "    </tr>\n",
       "    <tr>\n",
       "      <th>4</th>\n",
       "      <td>6</td>\n",
       "      <td>-80.3187</td>\n",
       "      <td>25.6364</td>\n",
       "    </tr>\n",
       "  </tbody>\n",
       "</table>\n",
       "</div>"
      ],
      "text/plain": [
       "   customer_id  longitude  latitude\n",
       "0            2   -90.2625   38.5814\n",
       "1            3   -87.2758   30.6143\n",
       "2            4   -86.8219   36.0986\n",
       "3            5   -80.4582   25.5584\n",
       "4            6   -80.3187   25.6364"
      ]
     },
     "execution_count": 3,
     "metadata": {},
     "output_type": "execute_result"
    }
   ],
   "source": [
    "customers = pd.read_csv('customers_geospatial.csv', index_col=0)\n",
    "customers.head()"
   ]
  },
  {
   "cell_type": "code",
   "execution_count": 4,
   "metadata": {},
   "outputs": [
    {
     "data": {
      "text/html": [
       "<div>\n",
       "<style scoped>\n",
       "    .dataframe tbody tr th:only-of-type {\n",
       "        vertical-align: middle;\n",
       "    }\n",
       "\n",
       "    .dataframe tbody tr th {\n",
       "        vertical-align: top;\n",
       "    }\n",
       "\n",
       "    .dataframe thead th {\n",
       "        text-align: right;\n",
       "    }\n",
       "</style>\n",
       "<table border=\"1\" class=\"dataframe\">\n",
       "  <thead>\n",
       "    <tr style=\"text-align: right;\">\n",
       "      <th></th>\n",
       "      <th>dealership_id</th>\n",
       "      <th>longitude</th>\n",
       "      <th>latitude</th>\n",
       "    </tr>\n",
       "  </thead>\n",
       "  <tbody>\n",
       "    <tr>\n",
       "      <th>0</th>\n",
       "      <td>1</td>\n",
       "      <td>-74.323291</td>\n",
       "      <td>40.792846</td>\n",
       "    </tr>\n",
       "    <tr>\n",
       "      <th>1</th>\n",
       "      <td>2</td>\n",
       "      <td>-118.305423</td>\n",
       "      <td>34.057754</td>\n",
       "    </tr>\n",
       "    <tr>\n",
       "      <th>2</th>\n",
       "      <td>3</td>\n",
       "      <td>-95.307020</td>\n",
       "      <td>29.963501</td>\n",
       "    </tr>\n",
       "    <tr>\n",
       "      <th>3</th>\n",
       "      <td>4</td>\n",
       "      <td>-80.236454</td>\n",
       "      <td>25.801748</td>\n",
       "    </tr>\n",
       "    <tr>\n",
       "      <th>4</th>\n",
       "      <td>5</td>\n",
       "      <td>-122.343609</td>\n",
       "      <td>37.524487</td>\n",
       "    </tr>\n",
       "  </tbody>\n",
       "</table>\n",
       "</div>"
      ],
      "text/plain": [
       "   dealership_id   longitude   latitude\n",
       "0              1  -74.323291  40.792846\n",
       "1              2 -118.305423  34.057754\n",
       "2              3  -95.307020  29.963501\n",
       "3              4  -80.236454  25.801748\n",
       "4              5 -122.343609  37.524487"
      ]
     },
     "execution_count": 4,
     "metadata": {},
     "output_type": "execute_result"
    }
   ],
   "source": [
    "dealers = pd.read_csv('dealerships_geospatial.csv', index_col=0)\n",
    "dealers.head()"
   ]
  },
  {
   "cell_type": "markdown",
   "metadata": {},
   "source": [
    "Загрузка данных из файлов в БД"
   ]
  },
  {
   "cell_type": "code",
   "execution_count": 7,
   "metadata": {},
   "outputs": [],
   "source": [
    "customers.to_sql('customers_geospatial', engine, index=False, if_exists='replace')\n",
    "dealers.to_sql('dealerships_geospatial', engine, index=False, if_exists='replace')"
   ]
  },
  {
   "cell_type": "markdown",
   "metadata": {},
   "source": [
    "Создадим временную таблицу с гео-точками для каждого клиента на основе широты и долготы"
   ]
  },
  {
   "cell_type": "code",
   "execution_count": 8,
   "metadata": {},
   "outputs": [],
   "source": [
    "query = \"\"\"\n",
    "CREATE TEMP TABLE IF NOT EXISTS customer_points AS (\n",
    "  SELECT\n",
    "    customer_id\n",
    "    , point(longitude, latitude) AS point\n",
    "  FROM customers_geospatial\n",
    "  WHERE longitude IS NOT NULL\n",
    "  AND latitude IS NOT NULL\n",
    ");\n",
    "\"\"\"\n",
    "engine.execute(query);"
   ]
  },
  {
   "cell_type": "markdown",
   "metadata": {},
   "source": [
    "Тоже самое для каждого дилера"
   ]
  },
  {
   "cell_type": "code",
   "execution_count": 10,
   "metadata": {},
   "outputs": [],
   "source": [
    "query = \"\"\"\n",
    "CREATE TEMP TABLE dealership_points AS (\n",
    "  SELECT\n",
    "    dealership_id\n",
    "    , point(longitude, latitude) AS point\n",
    "  FROM dealerships_geospatial\n",
    ");\n",
    "\"\"\"\n",
    "engine.execute(query);"
   ]
  },
  {
   "cell_type": "markdown",
   "metadata": {},
   "source": [
    "Рассчитаем декартово произведение расстояний между клиентами и дилерами с помощью `CROSS JOIN` и модудя `earthdistance`"
   ]
  },
  {
   "cell_type": "code",
   "execution_count": 27,
   "metadata": {},
   "outputs": [],
   "source": [
    "query = \"\"\"\n",
    "DROP TABLE IF EXISTS customer_dealership_distance;\n",
    "CREATE TEMP TABLE customer_dealership_distance AS (\n",
    "  SELECT\n",
    "    customer_id\n",
    "    , dealership_id\n",
    "    , (c.point <@> d.point)::NUMERIC * 1.609344 AS distance -- in km\n",
    "    -- , ST_DistanceSphere(c.point, d.point) AS distance\n",
    "  FROM customer_points c\n",
    "  CROSS JOIN dealership_points d\n",
    ");\n",
    "\"\"\"\n",
    "engine.execute(query);"
   ]
  },
  {
   "cell_type": "markdown",
   "metadata": {},
   "source": [
    "Найдем кратчайшее расстояние клиент-дилер"
   ]
  },
  {
   "cell_type": "code",
   "execution_count": 28,
   "metadata": {},
   "outputs": [],
   "source": [
    "query = \"\"\"\n",
    "DROP TABLE IF EXISTS closest_dealerships;\n",
    "CREATE TEMP TABLE closest_dealerships AS (\n",
    "  SELECT DISTINCT ON (customer_id)\n",
    "    customer_id\n",
    "    , dealership_id\n",
    "    , distance\n",
    "  FROM customer_dealership_distance\n",
    "  ORDER BY customer_id, distance\n",
    ");\n",
    "\"\"\"\n",
    "engine.execute(query);"
   ]
  },
  {
   "cell_type": "markdown",
   "metadata": {},
   "source": [
    "`DISTINCT ON` гарантирует только одну запись для каждого уникального значения столбца в `customer_id`. В этом случае мы получим одну запись для каждого клиентского id, и, поскольку мы сортируем по расстоянию, мы получим запись с кратчайшим расстоянием."
   ]
  },
  {
   "cell_type": "code",
   "execution_count": 29,
   "metadata": {},
   "outputs": [
    {
     "data": {
      "text/html": [
       "<div>\n",
       "<style scoped>\n",
       "    .dataframe tbody tr th:only-of-type {\n",
       "        vertical-align: middle;\n",
       "    }\n",
       "\n",
       "    .dataframe tbody tr th {\n",
       "        vertical-align: top;\n",
       "    }\n",
       "\n",
       "    .dataframe thead th {\n",
       "        text-align: right;\n",
       "    }\n",
       "</style>\n",
       "<table border=\"1\" class=\"dataframe\">\n",
       "  <thead>\n",
       "    <tr style=\"text-align: right;\">\n",
       "      <th></th>\n",
       "      <th>customer_id</th>\n",
       "      <th>dealership_id</th>\n",
       "      <th>distance</th>\n",
       "    </tr>\n",
       "  </thead>\n",
       "  <tbody>\n",
       "    <tr>\n",
       "      <th>34370</th>\n",
       "      <td>2</td>\n",
       "      <td>18</td>\n",
       "      <td>373.057182</td>\n",
       "    </tr>\n",
       "    <tr>\n",
       "      <th>37059</th>\n",
       "      <td>3</td>\n",
       "      <td>11</td>\n",
       "      <td>442.551109</td>\n",
       "    </tr>\n",
       "    <tr>\n",
       "      <th>32558</th>\n",
       "      <td>4</td>\n",
       "      <td>11</td>\n",
       "      <td>336.245674</td>\n",
       "    </tr>\n",
       "    <tr>\n",
       "      <th>11999</th>\n",
       "      <td>5</td>\n",
       "      <td>4</td>\n",
       "      <td>35.014083</td>\n",
       "    </tr>\n",
       "    <tr>\n",
       "      <th>7638</th>\n",
       "      <td>6</td>\n",
       "      <td>4</td>\n",
       "      <td>20.147572</td>\n",
       "    </tr>\n",
       "    <tr>\n",
       "      <th>...</th>\n",
       "      <td>...</td>\n",
       "      <td>...</td>\n",
       "      <td>...</td>\n",
       "    </tr>\n",
       "    <tr>\n",
       "      <th>23036</th>\n",
       "      <td>49995</td>\n",
       "      <td>12</td>\n",
       "      <td>151.599244</td>\n",
       "    </tr>\n",
       "    <tr>\n",
       "      <th>30264</th>\n",
       "      <td>49996</td>\n",
       "      <td>19</td>\n",
       "      <td>284.258485</td>\n",
       "    </tr>\n",
       "    <tr>\n",
       "      <th>13566</th>\n",
       "      <td>49997</td>\n",
       "      <td>15</td>\n",
       "      <td>42.175622</td>\n",
       "    </tr>\n",
       "    <tr>\n",
       "      <th>5642</th>\n",
       "      <td>49998</td>\n",
       "      <td>10</td>\n",
       "      <td>15.021615</td>\n",
       "    </tr>\n",
       "    <tr>\n",
       "      <th>39512</th>\n",
       "      <td>49999</td>\n",
       "      <td>18</td>\n",
       "      <td>525.953850</td>\n",
       "    </tr>\n",
       "  </tbody>\n",
       "</table>\n",
       "<p>44533 rows × 3 columns</p>\n",
       "</div>"
      ],
      "text/plain": [
       "       customer_id  dealership_id    distance\n",
       "34370            2             18  373.057182\n",
       "37059            3             11  442.551109\n",
       "32558            4             11  336.245674\n",
       "11999            5              4   35.014083\n",
       "7638             6              4   20.147572\n",
       "...            ...            ...         ...\n",
       "23036        49995             12  151.599244\n",
       "30264        49996             19  284.258485\n",
       "13566        49997             15   42.175622\n",
       "5642         49998             10   15.021615\n",
       "39512        49999             18  525.953850\n",
       "\n",
       "[44533 rows x 3 columns]"
      ]
     },
     "execution_count": 29,
     "metadata": {},
     "output_type": "execute_result"
    }
   ],
   "source": [
    "distances = pd.read_sql(\"SELECT * FROM closest_dealerships ORDER BY customer_id;\", engine)\n",
    "distances"
   ]
  },
  {
   "cell_type": "markdown",
   "metadata": {},
   "source": [
    "Рассчитаем среднее и медианное расстояния всех клиентов до ближайших диллерских центров."
   ]
  },
  {
   "cell_type": "code",
   "execution_count": 30,
   "metadata": {},
   "outputs": [
    {
     "data": {
      "text/html": [
       "<div>\n",
       "<style scoped>\n",
       "    .dataframe tbody tr th:only-of-type {\n",
       "        vertical-align: middle;\n",
       "    }\n",
       "\n",
       "    .dataframe tbody tr th {\n",
       "        vertical-align: top;\n",
       "    }\n",
       "\n",
       "    .dataframe thead th {\n",
       "        text-align: right;\n",
       "    }\n",
       "</style>\n",
       "<table border=\"1\" class=\"dataframe\">\n",
       "  <thead>\n",
       "    <tr style=\"text-align: right;\">\n",
       "      <th></th>\n",
       "      <th>avg_dist</th>\n",
       "      <th>median_dist</th>\n",
       "    </tr>\n",
       "  </thead>\n",
       "  <tbody>\n",
       "    <tr>\n",
       "      <th>0</th>\n",
       "      <td>236.216722</td>\n",
       "      <td>146.835875</td>\n",
       "    </tr>\n",
       "  </tbody>\n",
       "</table>\n",
       "</div>"
      ],
      "text/plain": [
       "     avg_dist  median_dist\n",
       "0  236.216722   146.835875"
      ]
     },
     "execution_count": 30,
     "metadata": {},
     "output_type": "execute_result"
    }
   ],
   "source": [
    "query = \"\"\"\n",
    "SELECT\n",
    "  AVG(distance) AS avg_dist\n",
    "  , PERCENTILE_DISC(0.5) WITHIN GROUP (ORDER BY distance) AS median_dist\n",
    "FROM closest_dealerships;\n",
    "\"\"\"\n",
    "pd.read_sql(query, engine)"
   ]
  },
  {
   "cell_type": "markdown",
   "metadata": {},
   "source": [
    "Попробуем повторить решение на python. Для измерения дистанции воспользуемся модулем `haversine`"
   ]
  },
  {
   "cell_type": "code",
   "execution_count": 14,
   "metadata": {},
   "outputs": [],
   "source": [
    "import haversine as hs"
   ]
  },
  {
   "cell_type": "code",
   "execution_count": 36,
   "metadata": {},
   "outputs": [],
   "source": [
    "customers = customers.assign(\n",
    "    point=customers[['latitude', 'longitude']].apply(tuple, axis=1),\n",
    "    key=0\n",
    ")\n",
    "dealers = dealers.assign(\n",
    "    point=dealers[['latitude', 'longitude',]].apply(tuple, axis=1),\n",
    "    key=0\n",
    ")\n",
    "# cross join\n",
    "df = customers[['customer_id', 'point', 'key']] \\\n",
    "              .merge(dealers[['dealership_id', 'point', 'key']],\n",
    "                     on='key',\n",
    "                     how='outer',\n",
    "                     suffixes=['_c', '_d']) \\\n",
    "              .assign(distance=lambda df: df[['point_c', 'point_d']] \\\n",
    "                      .apply(lambda x: hs.haversine(*x.values), axis=1))"
   ]
  },
  {
   "cell_type": "code",
   "execution_count": 37,
   "metadata": {},
   "outputs": [
    {
     "data": {
      "text/html": [
       "<div>\n",
       "<style scoped>\n",
       "    .dataframe tbody tr th:only-of-type {\n",
       "        vertical-align: middle;\n",
       "    }\n",
       "\n",
       "    .dataframe tbody tr th {\n",
       "        vertical-align: top;\n",
       "    }\n",
       "\n",
       "    .dataframe thead th {\n",
       "        text-align: right;\n",
       "    }\n",
       "</style>\n",
       "<table border=\"1\" class=\"dataframe\">\n",
       "  <thead>\n",
       "    <tr style=\"text-align: right;\">\n",
       "      <th></th>\n",
       "      <th>customer_id</th>\n",
       "      <th>dealership_id</th>\n",
       "      <th>distance</th>\n",
       "    </tr>\n",
       "  </thead>\n",
       "  <tbody>\n",
       "    <tr>\n",
       "      <th>0</th>\n",
       "      <td>2</td>\n",
       "      <td>18</td>\n",
       "      <td>373.058465</td>\n",
       "    </tr>\n",
       "    <tr>\n",
       "      <th>1</th>\n",
       "      <td>3</td>\n",
       "      <td>11</td>\n",
       "      <td>442.552632</td>\n",
       "    </tr>\n",
       "    <tr>\n",
       "      <th>2</th>\n",
       "      <td>4</td>\n",
       "      <td>11</td>\n",
       "      <td>336.246830</td>\n",
       "    </tr>\n",
       "    <tr>\n",
       "      <th>3</th>\n",
       "      <td>5</td>\n",
       "      <td>4</td>\n",
       "      <td>35.014203</td>\n",
       "    </tr>\n",
       "    <tr>\n",
       "      <th>4</th>\n",
       "      <td>6</td>\n",
       "      <td>4</td>\n",
       "      <td>20.147641</td>\n",
       "    </tr>\n",
       "    <tr>\n",
       "      <th>...</th>\n",
       "      <td>...</td>\n",
       "      <td>...</td>\n",
       "      <td>...</td>\n",
       "    </tr>\n",
       "    <tr>\n",
       "      <th>44528</th>\n",
       "      <td>49995</td>\n",
       "      <td>12</td>\n",
       "      <td>151.599766</td>\n",
       "    </tr>\n",
       "    <tr>\n",
       "      <th>44529</th>\n",
       "      <td>49996</td>\n",
       "      <td>19</td>\n",
       "      <td>284.259462</td>\n",
       "    </tr>\n",
       "    <tr>\n",
       "      <th>44530</th>\n",
       "      <td>49997</td>\n",
       "      <td>15</td>\n",
       "      <td>42.175767</td>\n",
       "    </tr>\n",
       "    <tr>\n",
       "      <th>44531</th>\n",
       "      <td>49998</td>\n",
       "      <td>10</td>\n",
       "      <td>15.021667</td>\n",
       "    </tr>\n",
       "    <tr>\n",
       "      <th>44532</th>\n",
       "      <td>49999</td>\n",
       "      <td>18</td>\n",
       "      <td>525.955659</td>\n",
       "    </tr>\n",
       "  </tbody>\n",
       "</table>\n",
       "<p>44533 rows × 3 columns</p>\n",
       "</div>"
      ],
      "text/plain": [
       "       customer_id  dealership_id    distance\n",
       "0                2             18  373.058465\n",
       "1                3             11  442.552632\n",
       "2                4             11  336.246830\n",
       "3                5              4   35.014203\n",
       "4                6              4   20.147641\n",
       "...            ...            ...         ...\n",
       "44528        49995             12  151.599766\n",
       "44529        49996             19  284.259462\n",
       "44530        49997             15   42.175767\n",
       "44531        49998             10   15.021667\n",
       "44532        49999             18  525.955659\n",
       "\n",
       "[44533 rows x 3 columns]"
      ]
     },
     "execution_count": 37,
     "metadata": {},
     "output_type": "execute_result"
    }
   ],
   "source": [
    "closest_dealerships = pd.crosstab(\n",
    "    df['dealership_id'],\n",
    "    df['customer_id'],\n",
    "    df['distance'],\n",
    "    aggfunc='min'\n",
    ").idxmin().reset_index(name='dealership_id') \\\n",
    "          .merge(df[['customer_id', 'dealership_id', 'distance']])\n",
    "\n",
    "closest_dealerships"
   ]
  },
  {
   "cell_type": "code",
   "execution_count": 38,
   "metadata": {},
   "outputs": [
    {
     "data": {
      "text/plain": [
       "mean    236.217534\n",
       "50%     146.836380\n",
       "Name: distance, dtype: float64"
      ]
     },
     "execution_count": 38,
     "metadata": {},
     "output_type": "execute_result"
    }
   ],
   "source": [
    "closest_dealerships['distance'].describe().loc[['mean', '50%']]"
   ]
  }
 ],
 "metadata": {
  "kernelspec": {
   "display_name": "Python 3",
   "language": "python",
   "name": "python3"
  },
  "language_info": {
   "codemirror_mode": {
    "name": "ipython",
    "version": 3
   },
   "file_extension": ".py",
   "mimetype": "text/x-python",
   "name": "python",
   "nbconvert_exporter": "python",
   "pygments_lexer": "ipython3",
   "version": "3.8.3"
  }
 },
 "nbformat": 4,
 "nbformat_minor": 4
}
