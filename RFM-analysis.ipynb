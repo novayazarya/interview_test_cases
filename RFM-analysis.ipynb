{
  "nbformat": 4,
  "nbformat_minor": 0,
  "metadata": {
    "colab": {
      "provenance": [],
      "collapsed_sections": []
    },
    "kernelspec": {
      "name": "python3",
      "display_name": "Python 3"
    },
    "language_info": {
      "name": "python"
    }
  },
  "cells": [
    {
      "cell_type": "markdown",
      "source": [
        "# RFM-анализ\n",
        "\n",
        "1. По данным покупок проведем анализ пользователей в плоскости Recency-Frequency-Monetary.\n",
        "\n",
        "2. Попробуем предсказать расход пользователей, используя данные из перового этапа как параметры предиктивной модели."
      ],
      "metadata": {
        "id": "vavywUPVx_4U"
      }
    },
    {
      "cell_type": "code",
      "execution_count": null,
      "metadata": {
        "id": "MH6YCxPKQTzl"
      },
      "outputs": [],
      "source": [
        "import numpy as np\n",
        "import pandas as pd\n",
        "import os"
      ]
    },
    {
      "cell_type": "code",
      "source": [
        "from google.colab import drive\n",
        "drive.mount('/content/drive')"
      ],
      "metadata": {
        "id": "Oan1IdCXawWg",
        "colab": {
          "base_uri": "https://localhost:8080/"
        },
        "outputId": "ab09a5c7-81be-408d-c1e1-921c2e44d4de"
      },
      "execution_count": null,
      "outputs": [
        {
          "output_type": "stream",
          "name": "stdout",
          "text": [
            "Mounted at /content/drive\n"
          ]
        }
      ]
    },
    {
      "cell_type": "code",
      "source": [
        "drive_path = \"drive/MyDrive/\"\n",
        "file_path = os.path.join(drive_path, 'scanner_data.csv')"
      ],
      "metadata": {
        "id": "kV8oXKvpRyJq"
      },
      "execution_count": null,
      "outputs": []
    },
    {
      "cell_type": "markdown",
      "source": [
        "Используем датасет из открытых источников.\n",
        "\n",
        "https://www.kaggle.com/datasets/marian447/retail-store-sales-transactions\n"
      ],
      "metadata": {
        "id": "6UgMNyGuYmvT"
      }
    },
    {
      "cell_type": "code",
      "source": [
        "df = pd.read_csv(file_path, parse_dates=['Date'], index_col=0)\n",
        "df.head(10)"
      ],
      "metadata": {
        "colab": {
          "base_uri": "https://localhost:8080/",
          "height": 363
        },
        "id": "Z6SdShmkSuhJ",
        "outputId": "d5c1bf7e-2b40-4e3f-cd32-cd4935c67a4f"
      },
      "execution_count": null,
      "outputs": [
        {
          "output_type": "execute_result",
          "data": {
            "text/plain": [
              "         Date  Customer_ID  Transaction_ID SKU_Category    SKU  Quantity  \\\n",
              "1  2016-02-01         2547               1          X52  0EM7L       1.0   \n",
              "2  2016-02-01          822               2          2ML  68BRQ       1.0   \n",
              "3  2016-02-01         3686               3          0H2  CZUZX       1.0   \n",
              "4  2016-02-01         3719               4          0H2  549KK       1.0   \n",
              "5  2016-02-01         9200               5          0H2  K8EHH       1.0   \n",
              "6  2016-02-01         5010               6          JPI  GVBRC       1.0   \n",
              "7  2016-02-01         1666               7          XG4  AHAE7       1.0   \n",
              "8  2016-02-01         1666               7          FEW  AHZNS       1.0   \n",
              "9  2016-02-01         1253               8          0H2  9STQJ       1.0   \n",
              "10 2016-02-01         5541               9          N5F  7IE9S       1.0   \n",
              "\n",
              "    Sales_Amount  \n",
              "1           3.13  \n",
              "2           5.46  \n",
              "3           6.35  \n",
              "4           5.59  \n",
              "5           6.88  \n",
              "6          10.77  \n",
              "7           3.65  \n",
              "8           8.21  \n",
              "9           8.25  \n",
              "10          8.18  "
            ],
            "text/html": [
              "\n",
              "  <div id=\"df-b28db42e-c22d-4937-887e-8b21767994f1\">\n",
              "    <div class=\"colab-df-container\">\n",
              "      <div>\n",
              "<style scoped>\n",
              "    .dataframe tbody tr th:only-of-type {\n",
              "        vertical-align: middle;\n",
              "    }\n",
              "\n",
              "    .dataframe tbody tr th {\n",
              "        vertical-align: top;\n",
              "    }\n",
              "\n",
              "    .dataframe thead th {\n",
              "        text-align: right;\n",
              "    }\n",
              "</style>\n",
              "<table border=\"1\" class=\"dataframe\">\n",
              "  <thead>\n",
              "    <tr style=\"text-align: right;\">\n",
              "      <th></th>\n",
              "      <th>Date</th>\n",
              "      <th>Customer_ID</th>\n",
              "      <th>Transaction_ID</th>\n",
              "      <th>SKU_Category</th>\n",
              "      <th>SKU</th>\n",
              "      <th>Quantity</th>\n",
              "      <th>Sales_Amount</th>\n",
              "    </tr>\n",
              "  </thead>\n",
              "  <tbody>\n",
              "    <tr>\n",
              "      <th>1</th>\n",
              "      <td>2016-02-01</td>\n",
              "      <td>2547</td>\n",
              "      <td>1</td>\n",
              "      <td>X52</td>\n",
              "      <td>0EM7L</td>\n",
              "      <td>1.0</td>\n",
              "      <td>3.13</td>\n",
              "    </tr>\n",
              "    <tr>\n",
              "      <th>2</th>\n",
              "      <td>2016-02-01</td>\n",
              "      <td>822</td>\n",
              "      <td>2</td>\n",
              "      <td>2ML</td>\n",
              "      <td>68BRQ</td>\n",
              "      <td>1.0</td>\n",
              "      <td>5.46</td>\n",
              "    </tr>\n",
              "    <tr>\n",
              "      <th>3</th>\n",
              "      <td>2016-02-01</td>\n",
              "      <td>3686</td>\n",
              "      <td>3</td>\n",
              "      <td>0H2</td>\n",
              "      <td>CZUZX</td>\n",
              "      <td>1.0</td>\n",
              "      <td>6.35</td>\n",
              "    </tr>\n",
              "    <tr>\n",
              "      <th>4</th>\n",
              "      <td>2016-02-01</td>\n",
              "      <td>3719</td>\n",
              "      <td>4</td>\n",
              "      <td>0H2</td>\n",
              "      <td>549KK</td>\n",
              "      <td>1.0</td>\n",
              "      <td>5.59</td>\n",
              "    </tr>\n",
              "    <tr>\n",
              "      <th>5</th>\n",
              "      <td>2016-02-01</td>\n",
              "      <td>9200</td>\n",
              "      <td>5</td>\n",
              "      <td>0H2</td>\n",
              "      <td>K8EHH</td>\n",
              "      <td>1.0</td>\n",
              "      <td>6.88</td>\n",
              "    </tr>\n",
              "    <tr>\n",
              "      <th>6</th>\n",
              "      <td>2016-02-01</td>\n",
              "      <td>5010</td>\n",
              "      <td>6</td>\n",
              "      <td>JPI</td>\n",
              "      <td>GVBRC</td>\n",
              "      <td>1.0</td>\n",
              "      <td>10.77</td>\n",
              "    </tr>\n",
              "    <tr>\n",
              "      <th>7</th>\n",
              "      <td>2016-02-01</td>\n",
              "      <td>1666</td>\n",
              "      <td>7</td>\n",
              "      <td>XG4</td>\n",
              "      <td>AHAE7</td>\n",
              "      <td>1.0</td>\n",
              "      <td>3.65</td>\n",
              "    </tr>\n",
              "    <tr>\n",
              "      <th>8</th>\n",
              "      <td>2016-02-01</td>\n",
              "      <td>1666</td>\n",
              "      <td>7</td>\n",
              "      <td>FEW</td>\n",
              "      <td>AHZNS</td>\n",
              "      <td>1.0</td>\n",
              "      <td>8.21</td>\n",
              "    </tr>\n",
              "    <tr>\n",
              "      <th>9</th>\n",
              "      <td>2016-02-01</td>\n",
              "      <td>1253</td>\n",
              "      <td>8</td>\n",
              "      <td>0H2</td>\n",
              "      <td>9STQJ</td>\n",
              "      <td>1.0</td>\n",
              "      <td>8.25</td>\n",
              "    </tr>\n",
              "    <tr>\n",
              "      <th>10</th>\n",
              "      <td>2016-02-01</td>\n",
              "      <td>5541</td>\n",
              "      <td>9</td>\n",
              "      <td>N5F</td>\n",
              "      <td>7IE9S</td>\n",
              "      <td>1.0</td>\n",
              "      <td>8.18</td>\n",
              "    </tr>\n",
              "  </tbody>\n",
              "</table>\n",
              "</div>\n",
              "      <button class=\"colab-df-convert\" onclick=\"convertToInteractive('df-b28db42e-c22d-4937-887e-8b21767994f1')\"\n",
              "              title=\"Convert this dataframe to an interactive table.\"\n",
              "              style=\"display:none;\">\n",
              "        \n",
              "  <svg xmlns=\"http://www.w3.org/2000/svg\" height=\"24px\"viewBox=\"0 0 24 24\"\n",
              "       width=\"24px\">\n",
              "    <path d=\"M0 0h24v24H0V0z\" fill=\"none\"/>\n",
              "    <path d=\"M18.56 5.44l.94 2.06.94-2.06 2.06-.94-2.06-.94-.94-2.06-.94 2.06-2.06.94zm-11 1L8.5 8.5l.94-2.06 2.06-.94-2.06-.94L8.5 2.5l-.94 2.06-2.06.94zm10 10l.94 2.06.94-2.06 2.06-.94-2.06-.94-.94-2.06-.94 2.06-2.06.94z\"/><path d=\"M17.41 7.96l-1.37-1.37c-.4-.4-.92-.59-1.43-.59-.52 0-1.04.2-1.43.59L10.3 9.45l-7.72 7.72c-.78.78-.78 2.05 0 2.83L4 21.41c.39.39.9.59 1.41.59.51 0 1.02-.2 1.41-.59l7.78-7.78 2.81-2.81c.8-.78.8-2.07 0-2.86zM5.41 20L4 18.59l7.72-7.72 1.47 1.35L5.41 20z\"/>\n",
              "  </svg>\n",
              "      </button>\n",
              "      \n",
              "  <style>\n",
              "    .colab-df-container {\n",
              "      display:flex;\n",
              "      flex-wrap:wrap;\n",
              "      gap: 12px;\n",
              "    }\n",
              "\n",
              "    .colab-df-convert {\n",
              "      background-color: #E8F0FE;\n",
              "      border: none;\n",
              "      border-radius: 50%;\n",
              "      cursor: pointer;\n",
              "      display: none;\n",
              "      fill: #1967D2;\n",
              "      height: 32px;\n",
              "      padding: 0 0 0 0;\n",
              "      width: 32px;\n",
              "    }\n",
              "\n",
              "    .colab-df-convert:hover {\n",
              "      background-color: #E2EBFA;\n",
              "      box-shadow: 0px 1px 2px rgba(60, 64, 67, 0.3), 0px 1px 3px 1px rgba(60, 64, 67, 0.15);\n",
              "      fill: #174EA6;\n",
              "    }\n",
              "\n",
              "    [theme=dark] .colab-df-convert {\n",
              "      background-color: #3B4455;\n",
              "      fill: #D2E3FC;\n",
              "    }\n",
              "\n",
              "    [theme=dark] .colab-df-convert:hover {\n",
              "      background-color: #434B5C;\n",
              "      box-shadow: 0px 1px 3px 1px rgba(0, 0, 0, 0.15);\n",
              "      filter: drop-shadow(0px 1px 2px rgba(0, 0, 0, 0.3));\n",
              "      fill: #FFFFFF;\n",
              "    }\n",
              "  </style>\n",
              "\n",
              "      <script>\n",
              "        const buttonEl =\n",
              "          document.querySelector('#df-b28db42e-c22d-4937-887e-8b21767994f1 button.colab-df-convert');\n",
              "        buttonEl.style.display =\n",
              "          google.colab.kernel.accessAllowed ? 'block' : 'none';\n",
              "\n",
              "        async function convertToInteractive(key) {\n",
              "          const element = document.querySelector('#df-b28db42e-c22d-4937-887e-8b21767994f1');\n",
              "          const dataTable =\n",
              "            await google.colab.kernel.invokeFunction('convertToInteractive',\n",
              "                                                     [key], {});\n",
              "          if (!dataTable) return;\n",
              "\n",
              "          const docLinkHtml = 'Like what you see? Visit the ' +\n",
              "            '<a target=\"_blank\" href=https://colab.research.google.com/notebooks/data_table.ipynb>data table notebook</a>'\n",
              "            + ' to learn more about interactive tables.';\n",
              "          element.innerHTML = '';\n",
              "          dataTable['output_type'] = 'display_data';\n",
              "          await google.colab.output.renderOutput(dataTable, element);\n",
              "          const docLink = document.createElement('div');\n",
              "          docLink.innerHTML = docLinkHtml;\n",
              "          element.appendChild(docLink);\n",
              "        }\n",
              "      </script>\n",
              "    </div>\n",
              "  </div>\n",
              "  "
            ]
          },
          "metadata": {},
          "execution_count": 4
        }
      ]
    },
    {
      "cell_type": "code",
      "source": [
        "df.describe(datetime_is_numeric=True)"
      ],
      "metadata": {
        "colab": {
          "base_uri": "https://localhost:8080/",
          "height": 300
        },
        "id": "sRFDhf3Z5kx0",
        "outputId": "1233af76-1129-4a3b-f15d-4d7fa036e8f5"
      },
      "execution_count": null,
      "outputs": [
        {
          "output_type": "execute_result",
          "data": {
            "text/plain": [
              "                                Date    Customer_ID  Transaction_ID  \\\n",
              "count                         131706  131706.000000   131706.000000   \n",
              "mean   2016-07-05 15:47:54.456744704   12386.450367    32389.604187   \n",
              "min              2016-01-02 00:00:00       1.000000        1.000000   \n",
              "25%              2016-04-06 00:00:00    7349.000000    16134.000000   \n",
              "50%              2016-07-06 00:00:00   13496.000000    32620.000000   \n",
              "75%              2016-10-06 00:00:00   17306.000000    48548.000000   \n",
              "max              2016-12-31 00:00:00   22625.000000    64682.000000   \n",
              "std                              NaN    6086.447552    18709.901238   \n",
              "\n",
              "            Quantity   Sales_Amount  \n",
              "count  131706.000000  131706.000000  \n",
              "mean        1.485311      11.981524  \n",
              "min         0.010000       0.020000  \n",
              "25%         1.000000       4.230000  \n",
              "50%         1.000000       6.920000  \n",
              "75%         1.000000      12.330000  \n",
              "max       400.000000     707.730000  \n",
              "std         3.872667      19.359699  "
            ],
            "text/html": [
              "\n",
              "  <div id=\"df-18adf8b1-ee46-4c13-bdc9-b864464a9eb6\">\n",
              "    <div class=\"colab-df-container\">\n",
              "      <div>\n",
              "<style scoped>\n",
              "    .dataframe tbody tr th:only-of-type {\n",
              "        vertical-align: middle;\n",
              "    }\n",
              "\n",
              "    .dataframe tbody tr th {\n",
              "        vertical-align: top;\n",
              "    }\n",
              "\n",
              "    .dataframe thead th {\n",
              "        text-align: right;\n",
              "    }\n",
              "</style>\n",
              "<table border=\"1\" class=\"dataframe\">\n",
              "  <thead>\n",
              "    <tr style=\"text-align: right;\">\n",
              "      <th></th>\n",
              "      <th>Date</th>\n",
              "      <th>Customer_ID</th>\n",
              "      <th>Transaction_ID</th>\n",
              "      <th>Quantity</th>\n",
              "      <th>Sales_Amount</th>\n",
              "    </tr>\n",
              "  </thead>\n",
              "  <tbody>\n",
              "    <tr>\n",
              "      <th>count</th>\n",
              "      <td>131706</td>\n",
              "      <td>131706.000000</td>\n",
              "      <td>131706.000000</td>\n",
              "      <td>131706.000000</td>\n",
              "      <td>131706.000000</td>\n",
              "    </tr>\n",
              "    <tr>\n",
              "      <th>mean</th>\n",
              "      <td>2016-07-05 15:47:54.456744704</td>\n",
              "      <td>12386.450367</td>\n",
              "      <td>32389.604187</td>\n",
              "      <td>1.485311</td>\n",
              "      <td>11.981524</td>\n",
              "    </tr>\n",
              "    <tr>\n",
              "      <th>min</th>\n",
              "      <td>2016-01-02 00:00:00</td>\n",
              "      <td>1.000000</td>\n",
              "      <td>1.000000</td>\n",
              "      <td>0.010000</td>\n",
              "      <td>0.020000</td>\n",
              "    </tr>\n",
              "    <tr>\n",
              "      <th>25%</th>\n",
              "      <td>2016-04-06 00:00:00</td>\n",
              "      <td>7349.000000</td>\n",
              "      <td>16134.000000</td>\n",
              "      <td>1.000000</td>\n",
              "      <td>4.230000</td>\n",
              "    </tr>\n",
              "    <tr>\n",
              "      <th>50%</th>\n",
              "      <td>2016-07-06 00:00:00</td>\n",
              "      <td>13496.000000</td>\n",
              "      <td>32620.000000</td>\n",
              "      <td>1.000000</td>\n",
              "      <td>6.920000</td>\n",
              "    </tr>\n",
              "    <tr>\n",
              "      <th>75%</th>\n",
              "      <td>2016-10-06 00:00:00</td>\n",
              "      <td>17306.000000</td>\n",
              "      <td>48548.000000</td>\n",
              "      <td>1.000000</td>\n",
              "      <td>12.330000</td>\n",
              "    </tr>\n",
              "    <tr>\n",
              "      <th>max</th>\n",
              "      <td>2016-12-31 00:00:00</td>\n",
              "      <td>22625.000000</td>\n",
              "      <td>64682.000000</td>\n",
              "      <td>400.000000</td>\n",
              "      <td>707.730000</td>\n",
              "    </tr>\n",
              "    <tr>\n",
              "      <th>std</th>\n",
              "      <td>NaN</td>\n",
              "      <td>6086.447552</td>\n",
              "      <td>18709.901238</td>\n",
              "      <td>3.872667</td>\n",
              "      <td>19.359699</td>\n",
              "    </tr>\n",
              "  </tbody>\n",
              "</table>\n",
              "</div>\n",
              "      <button class=\"colab-df-convert\" onclick=\"convertToInteractive('df-18adf8b1-ee46-4c13-bdc9-b864464a9eb6')\"\n",
              "              title=\"Convert this dataframe to an interactive table.\"\n",
              "              style=\"display:none;\">\n",
              "        \n",
              "  <svg xmlns=\"http://www.w3.org/2000/svg\" height=\"24px\"viewBox=\"0 0 24 24\"\n",
              "       width=\"24px\">\n",
              "    <path d=\"M0 0h24v24H0V0z\" fill=\"none\"/>\n",
              "    <path d=\"M18.56 5.44l.94 2.06.94-2.06 2.06-.94-2.06-.94-.94-2.06-.94 2.06-2.06.94zm-11 1L8.5 8.5l.94-2.06 2.06-.94-2.06-.94L8.5 2.5l-.94 2.06-2.06.94zm10 10l.94 2.06.94-2.06 2.06-.94-2.06-.94-.94-2.06-.94 2.06-2.06.94z\"/><path d=\"M17.41 7.96l-1.37-1.37c-.4-.4-.92-.59-1.43-.59-.52 0-1.04.2-1.43.59L10.3 9.45l-7.72 7.72c-.78.78-.78 2.05 0 2.83L4 21.41c.39.39.9.59 1.41.59.51 0 1.02-.2 1.41-.59l7.78-7.78 2.81-2.81c.8-.78.8-2.07 0-2.86zM5.41 20L4 18.59l7.72-7.72 1.47 1.35L5.41 20z\"/>\n",
              "  </svg>\n",
              "      </button>\n",
              "      \n",
              "  <style>\n",
              "    .colab-df-container {\n",
              "      display:flex;\n",
              "      flex-wrap:wrap;\n",
              "      gap: 12px;\n",
              "    }\n",
              "\n",
              "    .colab-df-convert {\n",
              "      background-color: #E8F0FE;\n",
              "      border: none;\n",
              "      border-radius: 50%;\n",
              "      cursor: pointer;\n",
              "      display: none;\n",
              "      fill: #1967D2;\n",
              "      height: 32px;\n",
              "      padding: 0 0 0 0;\n",
              "      width: 32px;\n",
              "    }\n",
              "\n",
              "    .colab-df-convert:hover {\n",
              "      background-color: #E2EBFA;\n",
              "      box-shadow: 0px 1px 2px rgba(60, 64, 67, 0.3), 0px 1px 3px 1px rgba(60, 64, 67, 0.15);\n",
              "      fill: #174EA6;\n",
              "    }\n",
              "\n",
              "    [theme=dark] .colab-df-convert {\n",
              "      background-color: #3B4455;\n",
              "      fill: #D2E3FC;\n",
              "    }\n",
              "\n",
              "    [theme=dark] .colab-df-convert:hover {\n",
              "      background-color: #434B5C;\n",
              "      box-shadow: 0px 1px 3px 1px rgba(0, 0, 0, 0.15);\n",
              "      filter: drop-shadow(0px 1px 2px rgba(0, 0, 0, 0.3));\n",
              "      fill: #FFFFFF;\n",
              "    }\n",
              "  </style>\n",
              "\n",
              "      <script>\n",
              "        const buttonEl =\n",
              "          document.querySelector('#df-18adf8b1-ee46-4c13-bdc9-b864464a9eb6 button.colab-df-convert');\n",
              "        buttonEl.style.display =\n",
              "          google.colab.kernel.accessAllowed ? 'block' : 'none';\n",
              "\n",
              "        async function convertToInteractive(key) {\n",
              "          const element = document.querySelector('#df-18adf8b1-ee46-4c13-bdc9-b864464a9eb6');\n",
              "          const dataTable =\n",
              "            await google.colab.kernel.invokeFunction('convertToInteractive',\n",
              "                                                     [key], {});\n",
              "          if (!dataTable) return;\n",
              "\n",
              "          const docLinkHtml = 'Like what you see? Visit the ' +\n",
              "            '<a target=\"_blank\" href=https://colab.research.google.com/notebooks/data_table.ipynb>data table notebook</a>'\n",
              "            + ' to learn more about interactive tables.';\n",
              "          element.innerHTML = '';\n",
              "          dataTable['output_type'] = 'display_data';\n",
              "          await google.colab.output.renderOutput(dataTable, element);\n",
              "          const docLink = document.createElement('div');\n",
              "          docLink.innerHTML = docLinkHtml;\n",
              "          element.appendChild(docLink);\n",
              "        }\n",
              "      </script>\n",
              "    </div>\n",
              "  </div>\n",
              "  "
            ]
          },
          "metadata": {},
          "execution_count": 5
        }
      ]
    },
    {
      "cell_type": "code",
      "source": [
        "print(f\"Number of customers in dataset: {df.Customer_ID.nunique()}\")\n",
        "print(f\"Number of SKU Groups in dataset: {df.SKU_Category.nunique()}\")\n",
        "print(f\"Date range: {df.Date.min()} - {df.Date.max()}\")"
      ],
      "metadata": {
        "colab": {
          "base_uri": "https://localhost:8080/"
        },
        "id": "Boy1ja2HTpkA",
        "outputId": "50a75905-983f-44f7-ccd6-e5adcb5cdc11"
      },
      "execution_count": null,
      "outputs": [
        {
          "output_type": "stream",
          "name": "stdout",
          "text": [
            "Number of customers in dataset: 22625\n",
            "Number of SKU Groups in dataset: 187\n",
            "Date range: 2016-01-02 00:00:00 - 2016-12-31 00:00:00\n"
          ]
        }
      ]
    },
    {
      "cell_type": "markdown",
      "source": [
        "## Очистка данных\n",
        "\n",
        "Нам понадобятся только следующие колонки:\n",
        "- `Date`\n",
        "- `Customer ID`\n",
        "- `Tranasction ID`\n",
        "- `Quantity`\n",
        "- `Sales Amount`"
      ],
      "metadata": {
        "id": "9NkkcRnmy3IV"
      }
    },
    {
      "cell_type": "code",
      "source": [
        "df_cleaned = df[['Date', 'Customer_ID', 'Transaction_ID', 'Quantity', 'Sales_Amount']]\n",
        "df_cleaned.head()"
      ],
      "metadata": {
        "colab": {
          "base_uri": "https://localhost:8080/",
          "height": 206
        },
        "id": "h3cAuUxXTsR0",
        "outputId": "f6d8fffd-db4a-4ad1-c659-4ed2cc1ae2ce"
      },
      "execution_count": null,
      "outputs": [
        {
          "output_type": "execute_result",
          "data": {
            "text/plain": [
              "        Date  Customer_ID  Transaction_ID  Quantity  Sales_Amount\n",
              "1 2016-02-01         2547               1       1.0          3.13\n",
              "2 2016-02-01          822               2       1.0          5.46\n",
              "3 2016-02-01         3686               3       1.0          6.35\n",
              "4 2016-02-01         3719               4       1.0          5.59\n",
              "5 2016-02-01         9200               5       1.0          6.88"
            ],
            "text/html": [
              "\n",
              "  <div id=\"df-9104f55b-e84a-458d-aea2-1e5a805f36ba\">\n",
              "    <div class=\"colab-df-container\">\n",
              "      <div>\n",
              "<style scoped>\n",
              "    .dataframe tbody tr th:only-of-type {\n",
              "        vertical-align: middle;\n",
              "    }\n",
              "\n",
              "    .dataframe tbody tr th {\n",
              "        vertical-align: top;\n",
              "    }\n",
              "\n",
              "    .dataframe thead th {\n",
              "        text-align: right;\n",
              "    }\n",
              "</style>\n",
              "<table border=\"1\" class=\"dataframe\">\n",
              "  <thead>\n",
              "    <tr style=\"text-align: right;\">\n",
              "      <th></th>\n",
              "      <th>Date</th>\n",
              "      <th>Customer_ID</th>\n",
              "      <th>Transaction_ID</th>\n",
              "      <th>Quantity</th>\n",
              "      <th>Sales_Amount</th>\n",
              "    </tr>\n",
              "  </thead>\n",
              "  <tbody>\n",
              "    <tr>\n",
              "      <th>1</th>\n",
              "      <td>2016-02-01</td>\n",
              "      <td>2547</td>\n",
              "      <td>1</td>\n",
              "      <td>1.0</td>\n",
              "      <td>3.13</td>\n",
              "    </tr>\n",
              "    <tr>\n",
              "      <th>2</th>\n",
              "      <td>2016-02-01</td>\n",
              "      <td>822</td>\n",
              "      <td>2</td>\n",
              "      <td>1.0</td>\n",
              "      <td>5.46</td>\n",
              "    </tr>\n",
              "    <tr>\n",
              "      <th>3</th>\n",
              "      <td>2016-02-01</td>\n",
              "      <td>3686</td>\n",
              "      <td>3</td>\n",
              "      <td>1.0</td>\n",
              "      <td>6.35</td>\n",
              "    </tr>\n",
              "    <tr>\n",
              "      <th>4</th>\n",
              "      <td>2016-02-01</td>\n",
              "      <td>3719</td>\n",
              "      <td>4</td>\n",
              "      <td>1.0</td>\n",
              "      <td>5.59</td>\n",
              "    </tr>\n",
              "    <tr>\n",
              "      <th>5</th>\n",
              "      <td>2016-02-01</td>\n",
              "      <td>9200</td>\n",
              "      <td>5</td>\n",
              "      <td>1.0</td>\n",
              "      <td>6.88</td>\n",
              "    </tr>\n",
              "  </tbody>\n",
              "</table>\n",
              "</div>\n",
              "      <button class=\"colab-df-convert\" onclick=\"convertToInteractive('df-9104f55b-e84a-458d-aea2-1e5a805f36ba')\"\n",
              "              title=\"Convert this dataframe to an interactive table.\"\n",
              "              style=\"display:none;\">\n",
              "        \n",
              "  <svg xmlns=\"http://www.w3.org/2000/svg\" height=\"24px\"viewBox=\"0 0 24 24\"\n",
              "       width=\"24px\">\n",
              "    <path d=\"M0 0h24v24H0V0z\" fill=\"none\"/>\n",
              "    <path d=\"M18.56 5.44l.94 2.06.94-2.06 2.06-.94-2.06-.94-.94-2.06-.94 2.06-2.06.94zm-11 1L8.5 8.5l.94-2.06 2.06-.94-2.06-.94L8.5 2.5l-.94 2.06-2.06.94zm10 10l.94 2.06.94-2.06 2.06-.94-2.06-.94-.94-2.06-.94 2.06-2.06.94z\"/><path d=\"M17.41 7.96l-1.37-1.37c-.4-.4-.92-.59-1.43-.59-.52 0-1.04.2-1.43.59L10.3 9.45l-7.72 7.72c-.78.78-.78 2.05 0 2.83L4 21.41c.39.39.9.59 1.41.59.51 0 1.02-.2 1.41-.59l7.78-7.78 2.81-2.81c.8-.78.8-2.07 0-2.86zM5.41 20L4 18.59l7.72-7.72 1.47 1.35L5.41 20z\"/>\n",
              "  </svg>\n",
              "      </button>\n",
              "      \n",
              "  <style>\n",
              "    .colab-df-container {\n",
              "      display:flex;\n",
              "      flex-wrap:wrap;\n",
              "      gap: 12px;\n",
              "    }\n",
              "\n",
              "    .colab-df-convert {\n",
              "      background-color: #E8F0FE;\n",
              "      border: none;\n",
              "      border-radius: 50%;\n",
              "      cursor: pointer;\n",
              "      display: none;\n",
              "      fill: #1967D2;\n",
              "      height: 32px;\n",
              "      padding: 0 0 0 0;\n",
              "      width: 32px;\n",
              "    }\n",
              "\n",
              "    .colab-df-convert:hover {\n",
              "      background-color: #E2EBFA;\n",
              "      box-shadow: 0px 1px 2px rgba(60, 64, 67, 0.3), 0px 1px 3px 1px rgba(60, 64, 67, 0.15);\n",
              "      fill: #174EA6;\n",
              "    }\n",
              "\n",
              "    [theme=dark] .colab-df-convert {\n",
              "      background-color: #3B4455;\n",
              "      fill: #D2E3FC;\n",
              "    }\n",
              "\n",
              "    [theme=dark] .colab-df-convert:hover {\n",
              "      background-color: #434B5C;\n",
              "      box-shadow: 0px 1px 3px 1px rgba(0, 0, 0, 0.15);\n",
              "      filter: drop-shadow(0px 1px 2px rgba(0, 0, 0, 0.3));\n",
              "      fill: #FFFFFF;\n",
              "    }\n",
              "  </style>\n",
              "\n",
              "      <script>\n",
              "        const buttonEl =\n",
              "          document.querySelector('#df-9104f55b-e84a-458d-aea2-1e5a805f36ba button.colab-df-convert');\n",
              "        buttonEl.style.display =\n",
              "          google.colab.kernel.accessAllowed ? 'block' : 'none';\n",
              "\n",
              "        async function convertToInteractive(key) {\n",
              "          const element = document.querySelector('#df-9104f55b-e84a-458d-aea2-1e5a805f36ba');\n",
              "          const dataTable =\n",
              "            await google.colab.kernel.invokeFunction('convertToInteractive',\n",
              "                                                     [key], {});\n",
              "          if (!dataTable) return;\n",
              "\n",
              "          const docLinkHtml = 'Like what you see? Visit the ' +\n",
              "            '<a target=\"_blank\" href=https://colab.research.google.com/notebooks/data_table.ipynb>data table notebook</a>'\n",
              "            + ' to learn more about interactive tables.';\n",
              "          element.innerHTML = '';\n",
              "          dataTable['output_type'] = 'display_data';\n",
              "          await google.colab.output.renderOutput(dataTable, element);\n",
              "          const docLink = document.createElement('div');\n",
              "          docLink.innerHTML = docLinkHtml;\n",
              "          element.appendChild(docLink);\n",
              "        }\n",
              "      </script>\n",
              "    </div>\n",
              "  </div>\n",
              "  "
            ]
          },
          "metadata": {},
          "execution_count": 7
        }
      ]
    },
    {
      "cell_type": "markdown",
      "source": [
        "## Создание признаков\n",
        "\n",
        "Мы проводим RFM-анализ, поэтому нам нужно рассчитать Recency, Frequency и Monetary для каждого клиента.\n",
        "\n",
        "- Recency (давность) — давность последней покупки. Чем меньше времени прошло с момента последней покупки, тем выше вероятность, что покупатель повторит действие;\n",
        "- Frequency (частота) — количество покупок. Чем больше покупок совершил клиент, тем выше вероятность, что он совершит покупку снова;\n",
        "- Monetary (деньги) — сумма покупок в денежном эквиваленте. Чем больше денег было потрачено клиентом, тем выше вероятность, что он снова совершит заказ."
      ],
      "metadata": {
        "id": "ouojHm1TzINx"
      }
    },
    {
      "cell_type": "code",
      "source": [
        "class RFM:\n",
        "    def __init__(\n",
        "        self,\n",
        "        data,\n",
        "        cut_off,\n",
        "        date_column,\n",
        "        customer_id_column,\n",
        "        value_column,\n",
        "        freq='M'\n",
        "    ):\n",
        "        self.data = data\n",
        "        self.cut_off = cut_off\n",
        "        self.date_column = date_column\n",
        "        self.customer_id_column = customer_id_column\n",
        "        self.value_column = value_column\n",
        "        self.freq = freq\n",
        "\n",
        "\n",
        "    def frequency(self):\n",
        "        frequency = self.data[self.data[self.date_column] < self.cut_off].copy()\n",
        "        frequency.set_index(self.date_column, inplace=True)\n",
        "        frequency.index = pd.DatetimeIndex(frequency.index)\n",
        "\n",
        "        frequency = frequency.groupby([\n",
        "            self.customer_id_column,\n",
        "            pd.Grouper(freq=self.freq, level=self.date_column)\n",
        "        ]).count()\n",
        "        frequency[self.value_column] = 1\n",
        "        return (frequency.groupby(self.customer_id_column).sum().reset_index()\n",
        "                .rename(columns={self.value_column : 'frequency'}))\n",
        "\n",
        "\n",
        "    def recency(self):\n",
        "        recency = self.data[self.data[self.date_column] < self.cut_off].copy()\n",
        "        recency = recency.groupby(self.customer_id_column)[self.date_column].max()\n",
        "        return ((pd.to_datetime(self.cut_off) - recency).dt.days) \\\n",
        "            .reset_index().rename(columns={self.date_column: 'recency'})\n",
        "\n",
        "\n",
        "    def age(self):\n",
        "        age = self.data[self.data[self.date_column] < self.cut_off].copy()\n",
        "        first_purchase = age.groupby(self.customer_id_column)[self.date_column] \\\n",
        "            .min().reset_index()\n",
        "        first_purchase['age'] = (\n",
        "            pd.to_datetime(self.cut_off) - first_purchase[self.date_column]\n",
        "        ).dt.days\n",
        "        return first_purchase[[self.customer_id_column, 'age']]\n",
        "\n",
        "\n",
        "    def value(self):\n",
        "        value = self.data[self.data[self.date_column] < self.cut_off].copy()\n",
        "        value.set_index(self.date_column, inplace=True)\n",
        "        value.index = pd.DatetimeIndex(value.index)\n",
        "        return value.groupby(self.customer_id_column)[self.value_column] \\\n",
        "            .mean().reset_index().rename(columns={self.value_column : 'value'})\n",
        "\n",
        "\n",
        "    def calculate(self):\n",
        "        return (self.frequency()\n",
        "                .merge(self.recency(), on=self.customer_id_column)\n",
        "                .merge(self.value(), on=self.customer_id_column)\n",
        "                .merge(self.age(), on=self.customer_id_column))"
      ],
      "metadata": {
        "id": "Dxh_2Omb6isJ"
      },
      "execution_count": null,
      "outputs": []
    },
    {
      "cell_type": "markdown",
      "source": [
        "## Моделирование\n",
        "\n",
        "Мы разделим данные на наблюдаемый период и будущий период. Если мы хотим предсказать, сколько покупатель потратит через год, мы установим продолжительность будущего периода равным одному году, а остальную часть времени будем рассматривать как данные для обучения модели.\n",
        "\n",
        "\n",
        "![image.png](data:image/png;base64,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)\n",
        "\n",
        "\n",
        "### Cut-Off\n",
        "Здесь мы вводим понятие отсечки. Это просто то место, где заканчивается наблюдаемый период, то есть до какой даты мы должны вычислить наши признаки."
      ],
      "metadata": {
        "id": "Cpbyiiv4OavT"
      }
    },
    {
      "cell_type": "markdown",
      "source": [
        "Продолжительность будущего периода определяет время, в течение которого мы хотим прогнозировать расходы клиентов."
      ],
      "metadata": {
        "id": "NPSFwqW9PLGI"
      }
    },
    {
      "cell_type": "code",
      "source": [
        "data_for_rfm = df_cleaned[['Date', 'Customer_ID', 'Sales_Amount']]\n",
        "rfm = RFM(data_for_rfm, '2016-06-01', 'Date', 'Customer_ID', 'Sales_Amount', 'W')"
      ],
      "metadata": {
        "id": "9HxgdJ949m_Q"
      },
      "execution_count": null,
      "outputs": []
    },
    {
      "cell_type": "code",
      "source": [
        "rfm_df = rfm.calculate()\n",
        "rfm_df.head()"
      ],
      "metadata": {
        "colab": {
          "base_uri": "https://localhost:8080/",
          "height": 206
        },
        "id": "ckC4RisSgaFQ",
        "outputId": "5e8c6c02-8c17-496f-85b1-7bca7e9c4c84"
      },
      "execution_count": null,
      "outputs": [
        {
          "output_type": "execute_result",
          "data": {
            "text/plain": [
              "   Customer_ID  frequency  recency      value  age\n",
              "0            1          1      131   8.145000  131\n",
              "1            2          1       69   7.770000   69\n",
              "2            3          1      121   3.640000  121\n",
              "3            5          4        4  14.672500  100\n",
              "4            6          1       62   8.516667   62"
            ],
            "text/html": [
              "\n",
              "  <div id=\"df-1d70b47e-2c18-480b-b84a-1c667c72691c\">\n",
              "    <div class=\"colab-df-container\">\n",
              "      <div>\n",
              "<style scoped>\n",
              "    .dataframe tbody tr th:only-of-type {\n",
              "        vertical-align: middle;\n",
              "    }\n",
              "\n",
              "    .dataframe tbody tr th {\n",
              "        vertical-align: top;\n",
              "    }\n",
              "\n",
              "    .dataframe thead th {\n",
              "        text-align: right;\n",
              "    }\n",
              "</style>\n",
              "<table border=\"1\" class=\"dataframe\">\n",
              "  <thead>\n",
              "    <tr style=\"text-align: right;\">\n",
              "      <th></th>\n",
              "      <th>Customer_ID</th>\n",
              "      <th>frequency</th>\n",
              "      <th>recency</th>\n",
              "      <th>value</th>\n",
              "      <th>age</th>\n",
              "    </tr>\n",
              "  </thead>\n",
              "  <tbody>\n",
              "    <tr>\n",
              "      <th>0</th>\n",
              "      <td>1</td>\n",
              "      <td>1</td>\n",
              "      <td>131</td>\n",
              "      <td>8.145000</td>\n",
              "      <td>131</td>\n",
              "    </tr>\n",
              "    <tr>\n",
              "      <th>1</th>\n",
              "      <td>2</td>\n",
              "      <td>1</td>\n",
              "      <td>69</td>\n",
              "      <td>7.770000</td>\n",
              "      <td>69</td>\n",
              "    </tr>\n",
              "    <tr>\n",
              "      <th>2</th>\n",
              "      <td>3</td>\n",
              "      <td>1</td>\n",
              "      <td>121</td>\n",
              "      <td>3.640000</td>\n",
              "      <td>121</td>\n",
              "    </tr>\n",
              "    <tr>\n",
              "      <th>3</th>\n",
              "      <td>5</td>\n",
              "      <td>4</td>\n",
              "      <td>4</td>\n",
              "      <td>14.672500</td>\n",
              "      <td>100</td>\n",
              "    </tr>\n",
              "    <tr>\n",
              "      <th>4</th>\n",
              "      <td>6</td>\n",
              "      <td>1</td>\n",
              "      <td>62</td>\n",
              "      <td>8.516667</td>\n",
              "      <td>62</td>\n",
              "    </tr>\n",
              "  </tbody>\n",
              "</table>\n",
              "</div>\n",
              "      <button class=\"colab-df-convert\" onclick=\"convertToInteractive('df-1d70b47e-2c18-480b-b84a-1c667c72691c')\"\n",
              "              title=\"Convert this dataframe to an interactive table.\"\n",
              "              style=\"display:none;\">\n",
              "        \n",
              "  <svg xmlns=\"http://www.w3.org/2000/svg\" height=\"24px\"viewBox=\"0 0 24 24\"\n",
              "       width=\"24px\">\n",
              "    <path d=\"M0 0h24v24H0V0z\" fill=\"none\"/>\n",
              "    <path d=\"M18.56 5.44l.94 2.06.94-2.06 2.06-.94-2.06-.94-.94-2.06-.94 2.06-2.06.94zm-11 1L8.5 8.5l.94-2.06 2.06-.94-2.06-.94L8.5 2.5l-.94 2.06-2.06.94zm10 10l.94 2.06.94-2.06 2.06-.94-2.06-.94-.94-2.06-.94 2.06-2.06.94z\"/><path d=\"M17.41 7.96l-1.37-1.37c-.4-.4-.92-.59-1.43-.59-.52 0-1.04.2-1.43.59L10.3 9.45l-7.72 7.72c-.78.78-.78 2.05 0 2.83L4 21.41c.39.39.9.59 1.41.59.51 0 1.02-.2 1.41-.59l7.78-7.78 2.81-2.81c.8-.78.8-2.07 0-2.86zM5.41 20L4 18.59l7.72-7.72 1.47 1.35L5.41 20z\"/>\n",
              "  </svg>\n",
              "      </button>\n",
              "      \n",
              "  <style>\n",
              "    .colab-df-container {\n",
              "      display:flex;\n",
              "      flex-wrap:wrap;\n",
              "      gap: 12px;\n",
              "    }\n",
              "\n",
              "    .colab-df-convert {\n",
              "      background-color: #E8F0FE;\n",
              "      border: none;\n",
              "      border-radius: 50%;\n",
              "      cursor: pointer;\n",
              "      display: none;\n",
              "      fill: #1967D2;\n",
              "      height: 32px;\n",
              "      padding: 0 0 0 0;\n",
              "      width: 32px;\n",
              "    }\n",
              "\n",
              "    .colab-df-convert:hover {\n",
              "      background-color: #E2EBFA;\n",
              "      box-shadow: 0px 1px 2px rgba(60, 64, 67, 0.3), 0px 1px 3px 1px rgba(60, 64, 67, 0.15);\n",
              "      fill: #174EA6;\n",
              "    }\n",
              "\n",
              "    [theme=dark] .colab-df-convert {\n",
              "      background-color: #3B4455;\n",
              "      fill: #D2E3FC;\n",
              "    }\n",
              "\n",
              "    [theme=dark] .colab-df-convert:hover {\n",
              "      background-color: #434B5C;\n",
              "      box-shadow: 0px 1px 3px 1px rgba(0, 0, 0, 0.15);\n",
              "      filter: drop-shadow(0px 1px 2px rgba(0, 0, 0, 0.3));\n",
              "      fill: #FFFFFF;\n",
              "    }\n",
              "  </style>\n",
              "\n",
              "      <script>\n",
              "        const buttonEl =\n",
              "          document.querySelector('#df-1d70b47e-2c18-480b-b84a-1c667c72691c button.colab-df-convert');\n",
              "        buttonEl.style.display =\n",
              "          google.colab.kernel.accessAllowed ? 'block' : 'none';\n",
              "\n",
              "        async function convertToInteractive(key) {\n",
              "          const element = document.querySelector('#df-1d70b47e-2c18-480b-b84a-1c667c72691c');\n",
              "          const dataTable =\n",
              "            await google.colab.kernel.invokeFunction('convertToInteractive',\n",
              "                                                     [key], {});\n",
              "          if (!dataTable) return;\n",
              "\n",
              "          const docLinkHtml = 'Like what you see? Visit the ' +\n",
              "            '<a target=\"_blank\" href=https://colab.research.google.com/notebooks/data_table.ipynb>data table notebook</a>'\n",
              "            + ' to learn more about interactive tables.';\n",
              "          element.innerHTML = '';\n",
              "          dataTable['output_type'] = 'display_data';\n",
              "          await google.colab.output.renderOutput(dataTable, element);\n",
              "          const docLink = document.createElement('div');\n",
              "          docLink.innerHTML = docLinkHtml;\n",
              "          element.appendChild(docLink);\n",
              "        }\n",
              "      </script>\n",
              "    </div>\n",
              "  </div>\n",
              "  "
            ]
          },
          "metadata": {},
          "execution_count": 10
        }
      ]
    },
    {
      "cell_type": "code",
      "source": [
        "start_date, end_date = df_cleaned.Date.min(), df_cleaned.Date.max()\n",
        "print(start_date, end_date)"
      ],
      "metadata": {
        "colab": {
          "base_uri": "https://localhost:8080/"
        },
        "id": "nu_X_WI7PlQk",
        "outputId": "6719becf-1462-4295-a2d0-fc83391dc82c"
      },
      "execution_count": null,
      "outputs": [
        {
          "output_type": "stream",
          "name": "stdout",
          "text": [
            "2016-01-02 00:00:00 2016-12-31 00:00:00\n"
          ]
        }
      ]
    },
    {
      "cell_type": "markdown",
      "source": [
        "### Рекурсивный RFM\n",
        "Мы выберем частоту (например, один месяц) и пройдемся по набору данных, вычислив наши параметры RFM на основе наблюдаемых батчей и сгенерировав метки из будущего. Идея состоит в том, чтобы рекурсивно вычислить параметры, чтобы модель могла узнать, как поведение клиентов меняется с течением времени."
      ],
      "metadata": {
        "id": "wu-ZYe1zat3u"
      }
    },
    {
      "cell_type": "code",
      "source": [
        "def recursive_rfm(data,\n",
        "                  date_col,\n",
        "                  id_col,\n",
        "                  value_col,\n",
        "                  freq='M',\n",
        "                  start_length=30,\n",
        "                  label_period_days=30):\n",
        "  df_list = []\n",
        "  rfm_columns = [date_col, id_col, value_col]\n",
        "  start_date = data[date_col].min() + pd.Timedelta(start_length, unit='D')\n",
        "  end_date = data[date_col].max() - pd.Timedelta(label_period_days, unit='D')\n",
        "  dates = pd.date_range(start=start_date, end=end_date, freq=freq)\n",
        "\n",
        "  for cut_off in dates:\n",
        "      observed = data[data[date_col] < cut_off]\n",
        "      future = data[\n",
        "          (data[date_col] > cut_off) &\n",
        "          (data[date_col] < cut_off + pd.Timedelta(label_period_days, unit='D'))\n",
        "      ]\n",
        "      \n",
        "      print(f\"computing rfm features for {cut_off.date()} \"\n",
        "            f\"to {future[date_col].max().date()}: {len(observed)}\")\n",
        "      _observed = observed[rfm_columns]\n",
        "      rfm_features = RFM(_observed,\n",
        "                         cut_off,\n",
        "                         date_col,\n",
        "                         id_col,\n",
        "                         value_col).calculate()\n",
        "      labels = future.groupby(id_col)[value_col].sum()\n",
        "      df = rfm_features.merge(labels, on=id_col, how='outer').fillna(0) \n",
        "      df_list.append(df)\n",
        "  full_df = pd.concat(df_list, axis=0)\n",
        "  res = full_df[full_df.recency != 0].dropna(axis=1, how='any')\n",
        "  return res"
      ],
      "metadata": {
        "id": "0n7He2LHbY-F"
      },
      "execution_count": 12,
      "outputs": []
    },
    {
      "cell_type": "code",
      "source": [
        "rec_df = recursive_rfm(data_for_rfm, 'Date', 'Customer_ID', 'Sales_Amount')"
      ],
      "metadata": {
        "colab": {
          "base_uri": "https://localhost:8080/"
        },
        "id": "rdTPMIAdeZJy",
        "outputId": "52b799ad-0833-4f8a-da3e-47498fb84f5f"
      },
      "execution_count": 13,
      "outputs": [
        {
          "output_type": "stream",
          "name": "stdout",
          "text": [
            "computing rfm features for 2016-02-29 to 2016-03-29: 19712\n",
            "computing rfm features for 2016-03-31 to 2016-04-29: 30153\n",
            "computing rfm features for 2016-04-30 to 2016-05-29: 41415\n",
            "computing rfm features for 2016-05-31 to 2016-06-29: 53324\n",
            "computing rfm features for 2016-06-30 to 2016-07-29: 63562\n",
            "computing rfm features for 2016-07-31 to 2016-08-29: 73986\n",
            "computing rfm features for 2016-08-31 to 2016-09-29: 84499\n",
            "computing rfm features for 2016-09-30 to 2016-10-29: 96606\n",
            "computing rfm features for 2016-10-31 to 2016-11-29: 107994\n",
            "computing rfm features for 2016-11-30 to 2016-12-29: 119086\n"
          ]
        }
      ]
    },
    {
      "cell_type": "markdown",
      "source": [
        "## Предиктивная модель"
      ],
      "metadata": {
        "id": "srZhDhjvW5HW"
      }
    },
    {
      "cell_type": "markdown",
      "source": [
        "В качестве модели попробуем `Random Forest Regressor`."
      ],
      "metadata": {
        "id": "YcWPfFY1W_Je"
      }
    },
    {
      "cell_type": "code",
      "source": [
        "from sklearn.ensemble import RandomForestRegressor\n",
        "from sklearn.model_selection import train_test_split"
      ],
      "metadata": {
        "id": "mFvdDdhOe12x"
      },
      "execution_count": 14,
      "outputs": []
    },
    {
      "cell_type": "code",
      "source": [
        "X = rec_df[['recency', 'frequency', 'value', 'age']]\n",
        "y = rec_df[['Sales_Amount']].values.reshape(-1)\n",
        "\n",
        "test_size = 0.3\n",
        "X_train, X_test, y_train, y_test = train_test_split(\n",
        "    X,\n",
        "    y,\n",
        "    test_size=test_size,\n",
        "    random_state=42,\n",
        "    shuffle=True\n",
        ")"
      ],
      "metadata": {
        "id": "nnzl_PdqghqL"
      },
      "execution_count": 20,
      "outputs": []
    },
    {
      "cell_type": "code",
      "source": [
        "from sklearn.ensemble import RandomForestRegressor\n",
        "rf = RandomForestRegressor(max_depth=6, random_state=42).fit(X_train, y_train)"
      ],
      "metadata": {
        "id": "Gk77bL7ugbJB"
      },
      "execution_count": 21,
      "outputs": []
    },
    {
      "cell_type": "markdown",
      "source": [
        "## Результат\n",
        "\n",
        "Сохраним прогнозы в датафрейме и посмотрим, как они соотносятся с истинными значениями."
      ],
      "metadata": {
        "id": "SJIOk_hnXNW3"
      }
    },
    {
      "cell_type": "code",
      "source": [
        "predictions = pd.DataFrame({'true': y_train, 'preds': rf.predict(X_train)})\n",
        "predictions_test = pd.DataFrame({'true': y_test, 'preds': rf.predict(X_test)})"
      ],
      "metadata": {
        "id": "BUQ0EzEAj6F2"
      },
      "execution_count": 22,
      "outputs": []
    },
    {
      "cell_type": "code",
      "source": [
        "from sklearn.metrics import mean_squared_error\n",
        "train_rmse = np.sqrt(mean_squared_error(predictions.true,\n",
        "                                        predictions.preds))\n",
        "test_rmse = np.sqrt(mean_squared_error(predictions_test.true,\n",
        "                                       predictions_test.preds))\n",
        "\n",
        "print(f\"Train RMSE: {train_rmse}, Test RMSE: {test_rmse}\")"
      ],
      "metadata": {
        "colab": {
          "base_uri": "https://localhost:8080/"
        },
        "id": "yQG8h3y0h3AY",
        "outputId": "9cbec329-c5f2-4309-b886-4f9bf9d2681d"
      },
      "execution_count": 23,
      "outputs": [
        {
          "output_type": "stream",
          "name": "stdout",
          "text": [
            "Train RMSE: 25.088217617376042, Test RMSE: 25.922808821101686\n"
          ]
        }
      ]
    },
    {
      "cell_type": "code",
      "source": [
        "import matplotlib.pyplot as plt\n",
        "\n",
        "fig, ax = plt.subplots(2, figsize=(15, 9))\n",
        "predictions.plot(ax=ax[0], title='Train', alpha=0.5)\n",
        "predictions_test.plot(ax=ax[1], title='Test', alpha=0.5)\n",
        "plt.xlabel('CustomerID')\n",
        "plt.xlabel('Sales Amount')\n",
        "plt.tight_layout()\n",
        "plt.show()"
      ],
      "metadata": {
        "colab": {
          "base_uri": "https://localhost:8080/",
          "height": 657
        },
        "id": "yj5bmlbxiB64",
        "outputId": "97562d26-3693-40b0-da8d-b86844809922"
      },
      "execution_count": 24,
      "outputs": [
        {
          "output_type": "display_data",
          "data": {
            "text/plain": [
              "<Figure size 1080x648 with 2 Axes>"
            ],
            "image/png": "[encoded data removed]"
          },
          "metadata": {
            "needs_background": "light"
          }
        }
      ]
    },
    {
      "cell_type": "code",
      "source": [],
      "metadata": {
        "id": "0_p6LOWm3wcB"
      },
      "execution_count": null,
      "outputs": []
    }
  ]
}