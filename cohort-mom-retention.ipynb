{
 "cells": [
  {
   "cell_type": "markdown",
   "metadata": {},
   "source": [
    "# 1. Когортный анализ помесячного retention rate\n",
    "Необходимо при помощи когортного анализа рассчитать retention rate от месяца к месяцу на промежутке в один год, начиная с начала года.\n",
    "\n",
    "Инструменты: SQL, Python"
   ]
  },
  {
   "cell_type": "code",
   "execution_count": 1,
   "metadata": {},
   "outputs": [],
   "source": [
    "import pandas as pd\n",
    "import numpy as np\n",
    "import matplotlib.pyplot as plt\n",
    "import seaborn as sns\n",
    "from sqlalchemy import create_engine\n",
    "from pathlib import Path"
   ]
  },
  {
   "cell_type": "markdown",
   "metadata": {},
   "source": [
    "В качестве исходных данных были выбраны данные продаж веломагазина за 2017, взятые с Kaggle. "
   ]
  },
  {
   "cell_type": "code",
   "execution_count": 2,
   "metadata": {},
   "outputs": [],
   "source": [
    "df = pd.read_excel('KPMG_VI_New_raw_data_update_final.xlsx',\n",
    "                   sheet_name='Transactions',\n",
    "                   skiprows=1,\n",
    "                   parse_dates=['transaction_date']\n",
    "                  )"
   ]
  },
  {
   "cell_type": "code",
   "execution_count": 3,
   "metadata": {},
   "outputs": [
    {
     "data": {
      "text/html": [
       "<div>\n",
       "<style scoped>\n",
       "    .dataframe tbody tr th:only-of-type {\n",
       "        vertical-align: middle;\n",
       "    }\n",
       "\n",
       "    .dataframe tbody tr th {\n",
       "        vertical-align: top;\n",
       "    }\n",
       "\n",
       "    .dataframe thead th {\n",
       "        text-align: right;\n",
       "    }\n",
       "</style>\n",
       "<table border=\"1\" class=\"dataframe\">\n",
       "  <thead>\n",
       "    <tr style=\"text-align: right;\">\n",
       "      <th></th>\n",
       "      <th>transaction_id</th>\n",
       "      <th>product_id</th>\n",
       "      <th>customer_id</th>\n",
       "      <th>transaction_date</th>\n",
       "      <th>online_order</th>\n",
       "      <th>order_status</th>\n",
       "      <th>brand</th>\n",
       "      <th>product_line</th>\n",
       "      <th>product_class</th>\n",
       "      <th>product_size</th>\n",
       "      <th>list_price</th>\n",
       "      <th>standard_cost</th>\n",
       "      <th>product_first_sold_date</th>\n",
       "    </tr>\n",
       "  </thead>\n",
       "  <tbody>\n",
       "    <tr>\n",
       "      <th>0</th>\n",
       "      <td>1</td>\n",
       "      <td>2</td>\n",
       "      <td>2950</td>\n",
       "      <td>2017-02-25</td>\n",
       "      <td>0.0</td>\n",
       "      <td>Approved</td>\n",
       "      <td>Solex</td>\n",
       "      <td>Standard</td>\n",
       "      <td>medium</td>\n",
       "      <td>medium</td>\n",
       "      <td>71.49</td>\n",
       "      <td>53.62</td>\n",
       "      <td>41245.0</td>\n",
       "    </tr>\n",
       "    <tr>\n",
       "      <th>1</th>\n",
       "      <td>2</td>\n",
       "      <td>3</td>\n",
       "      <td>3120</td>\n",
       "      <td>2017-05-21</td>\n",
       "      <td>1.0</td>\n",
       "      <td>Approved</td>\n",
       "      <td>Trek Bicycles</td>\n",
       "      <td>Standard</td>\n",
       "      <td>medium</td>\n",
       "      <td>large</td>\n",
       "      <td>2091.47</td>\n",
       "      <td>388.92</td>\n",
       "      <td>41701.0</td>\n",
       "    </tr>\n",
       "    <tr>\n",
       "      <th>2</th>\n",
       "      <td>3</td>\n",
       "      <td>37</td>\n",
       "      <td>402</td>\n",
       "      <td>2017-10-16</td>\n",
       "      <td>0.0</td>\n",
       "      <td>Approved</td>\n",
       "      <td>OHM Cycles</td>\n",
       "      <td>Standard</td>\n",
       "      <td>low</td>\n",
       "      <td>medium</td>\n",
       "      <td>1793.43</td>\n",
       "      <td>248.82</td>\n",
       "      <td>36361.0</td>\n",
       "    </tr>\n",
       "    <tr>\n",
       "      <th>3</th>\n",
       "      <td>4</td>\n",
       "      <td>88</td>\n",
       "      <td>3135</td>\n",
       "      <td>2017-08-31</td>\n",
       "      <td>0.0</td>\n",
       "      <td>Approved</td>\n",
       "      <td>Norco Bicycles</td>\n",
       "      <td>Standard</td>\n",
       "      <td>medium</td>\n",
       "      <td>medium</td>\n",
       "      <td>1198.46</td>\n",
       "      <td>381.10</td>\n",
       "      <td>36145.0</td>\n",
       "    </tr>\n",
       "    <tr>\n",
       "      <th>4</th>\n",
       "      <td>5</td>\n",
       "      <td>78</td>\n",
       "      <td>787</td>\n",
       "      <td>2017-10-01</td>\n",
       "      <td>1.0</td>\n",
       "      <td>Approved</td>\n",
       "      <td>Giant Bicycles</td>\n",
       "      <td>Standard</td>\n",
       "      <td>medium</td>\n",
       "      <td>large</td>\n",
       "      <td>1765.30</td>\n",
       "      <td>709.48</td>\n",
       "      <td>42226.0</td>\n",
       "    </tr>\n",
       "  </tbody>\n",
       "</table>\n",
       "</div>"
      ],
      "text/plain": [
       "   transaction_id  product_id  customer_id transaction_date  online_order  \\\n",
       "0               1           2         2950       2017-02-25           0.0   \n",
       "1               2           3         3120       2017-05-21           1.0   \n",
       "2               3          37          402       2017-10-16           0.0   \n",
       "3               4          88         3135       2017-08-31           0.0   \n",
       "4               5          78          787       2017-10-01           1.0   \n",
       "\n",
       "  order_status           brand product_line product_class product_size  \\\n",
       "0     Approved           Solex     Standard        medium       medium   \n",
       "1     Approved   Trek Bicycles     Standard        medium        large   \n",
       "2     Approved      OHM Cycles     Standard           low       medium   \n",
       "3     Approved  Norco Bicycles     Standard        medium       medium   \n",
       "4     Approved  Giant Bicycles     Standard        medium        large   \n",
       "\n",
       "   list_price  standard_cost  product_first_sold_date  \n",
       "0       71.49          53.62                  41245.0  \n",
       "1     2091.47         388.92                  41701.0  \n",
       "2     1793.43         248.82                  36361.0  \n",
       "3     1198.46         381.10                  36145.0  \n",
       "4     1765.30         709.48                  42226.0  "
      ]
     },
     "execution_count": 3,
     "metadata": {},
     "output_type": "execute_result"
    }
   ],
   "source": [
    "df.head()"
   ]
  },
  {
   "cell_type": "markdown",
   "metadata": {},
   "source": [
    "Загрузка данных в БД"
   ]
  },
  {
   "cell_type": "code",
   "execution_count": 5,
   "metadata": {},
   "outputs": [],
   "source": [
    "with open(Path.home().joinpath('.pgpass')) as auth:\n",
    "    host, port, table, user, _ = auth.read().rstrip().split(':')\n",
    "    \n",
    "engine = create_engine(f'postgresql+psycopg2://{user}:@{host}:{port}/{table}')"
   ]
  },
  {
   "cell_type": "code",
   "execution_count": 6,
   "metadata": {},
   "outputs": [],
   "source": [
    "df.to_sql('transactions', engine, index=False, if_exists='replace')"
   ]
  },
  {
   "cell_type": "markdown",
   "metadata": {},
   "source": [
    "Строим CTE, в котором:\n",
    "- выбираем только подтвержденные транзакции;\n",
    "- выделяем месяц транзакции с помощью функции `DATE_TRUNC`;\n",
    "- определяем минимальную дату активности пользователя с помощью оконной функции;\n",
    "- считаем продолжительность периода активности пользователя в месяцах — для этого используем функцию `AGE`;\n",
    "- считаем количество уникальных пользователей в каждой когорте для каждого месяца.\n",
    "\n",
    "Сводим эти данные в таблицу, где строками являются месяца, столбцами — индексы когорт, начиная с 0, значениями — количество уникальных пользователей."
   ]
  },
  {
   "cell_type": "code",
   "execution_count": 7,
   "metadata": {},
   "outputs": [
    {
     "data": {
      "text/html": [
       "<div>\n",
       "<style scoped>\n",
       "    .dataframe tbody tr th:only-of-type {\n",
       "        vertical-align: middle;\n",
       "    }\n",
       "\n",
       "    .dataframe tbody tr th {\n",
       "        vertical-align: top;\n",
       "    }\n",
       "\n",
       "    .dataframe thead th {\n",
       "        text-align: right;\n",
       "    }\n",
       "</style>\n",
       "<table border=\"1\" class=\"dataframe\">\n",
       "  <thead>\n",
       "    <tr style=\"text-align: right;\">\n",
       "      <th></th>\n",
       "      <th>cohort_month</th>\n",
       "      <th>0</th>\n",
       "      <th>1</th>\n",
       "      <th>2</th>\n",
       "      <th>3</th>\n",
       "      <th>4</th>\n",
       "      <th>5</th>\n",
       "      <th>6</th>\n",
       "      <th>7</th>\n",
       "      <th>8</th>\n",
       "      <th>9</th>\n",
       "      <th>10</th>\n",
       "      <th>11</th>\n",
       "    </tr>\n",
       "  </thead>\n",
       "  <tbody>\n",
       "    <tr>\n",
       "      <th>0</th>\n",
       "      <td>2017-01-01</td>\n",
       "      <td>1347.0</td>\n",
       "      <td>483.0</td>\n",
       "      <td>505.0</td>\n",
       "      <td>499.0</td>\n",
       "      <td>492.0</td>\n",
       "      <td>475.0</td>\n",
       "      <td>513.0</td>\n",
       "      <td>524.0</td>\n",
       "      <td>489.0</td>\n",
       "      <td>524.0</td>\n",
       "      <td>492.0</td>\n",
       "      <td>510.0</td>\n",
       "    </tr>\n",
       "    <tr>\n",
       "      <th>1</th>\n",
       "      <td>2017-02-01</td>\n",
       "      <td>800.0</td>\n",
       "      <td>322.0</td>\n",
       "      <td>297.0</td>\n",
       "      <td>311.0</td>\n",
       "      <td>283.0</td>\n",
       "      <td>297.0</td>\n",
       "      <td>306.0</td>\n",
       "      <td>281.0</td>\n",
       "      <td>325.0</td>\n",
       "      <td>306.0</td>\n",
       "      <td>292.0</td>\n",
       "      <td>NaN</td>\n",
       "    </tr>\n",
       "    <tr>\n",
       "      <th>2</th>\n",
       "      <td>2017-03-01</td>\n",
       "      <td>484.0</td>\n",
       "      <td>167.0</td>\n",
       "      <td>172.0</td>\n",
       "      <td>164.0</td>\n",
       "      <td>180.0</td>\n",
       "      <td>184.0</td>\n",
       "      <td>173.0</td>\n",
       "      <td>209.0</td>\n",
       "      <td>186.0</td>\n",
       "      <td>180.0</td>\n",
       "      <td>NaN</td>\n",
       "      <td>NaN</td>\n",
       "    </tr>\n",
       "    <tr>\n",
       "      <th>3</th>\n",
       "      <td>2017-04-01</td>\n",
       "      <td>337.0</td>\n",
       "      <td>110.0</td>\n",
       "      <td>121.0</td>\n",
       "      <td>152.0</td>\n",
       "      <td>142.0</td>\n",
       "      <td>118.0</td>\n",
       "      <td>144.0</td>\n",
       "      <td>125.0</td>\n",
       "      <td>129.0</td>\n",
       "      <td>NaN</td>\n",
       "      <td>NaN</td>\n",
       "      <td>NaN</td>\n",
       "    </tr>\n",
       "    <tr>\n",
       "      <th>4</th>\n",
       "      <td>2017-05-01</td>\n",
       "      <td>213.0</td>\n",
       "      <td>86.0</td>\n",
       "      <td>83.0</td>\n",
       "      <td>88.0</td>\n",
       "      <td>73.0</td>\n",
       "      <td>73.0</td>\n",
       "      <td>74.0</td>\n",
       "      <td>83.0</td>\n",
       "      <td>NaN</td>\n",
       "      <td>NaN</td>\n",
       "      <td>NaN</td>\n",
       "      <td>NaN</td>\n",
       "    </tr>\n",
       "    <tr>\n",
       "      <th>5</th>\n",
       "      <td>2017-06-01</td>\n",
       "      <td>123.0</td>\n",
       "      <td>45.0</td>\n",
       "      <td>44.0</td>\n",
       "      <td>47.0</td>\n",
       "      <td>45.0</td>\n",
       "      <td>45.0</td>\n",
       "      <td>54.0</td>\n",
       "      <td>NaN</td>\n",
       "      <td>NaN</td>\n",
       "      <td>NaN</td>\n",
       "      <td>NaN</td>\n",
       "      <td>NaN</td>\n",
       "    </tr>\n",
       "    <tr>\n",
       "      <th>6</th>\n",
       "      <td>2017-07-01</td>\n",
       "      <td>77.0</td>\n",
       "      <td>26.0</td>\n",
       "      <td>26.0</td>\n",
       "      <td>32.0</td>\n",
       "      <td>37.0</td>\n",
       "      <td>24.0</td>\n",
       "      <td>NaN</td>\n",
       "      <td>NaN</td>\n",
       "      <td>NaN</td>\n",
       "      <td>NaN</td>\n",
       "      <td>NaN</td>\n",
       "      <td>NaN</td>\n",
       "    </tr>\n",
       "    <tr>\n",
       "      <th>7</th>\n",
       "      <td>2017-08-01</td>\n",
       "      <td>51.0</td>\n",
       "      <td>18.0</td>\n",
       "      <td>22.0</td>\n",
       "      <td>18.0</td>\n",
       "      <td>13.0</td>\n",
       "      <td>NaN</td>\n",
       "      <td>NaN</td>\n",
       "      <td>NaN</td>\n",
       "      <td>NaN</td>\n",
       "      <td>NaN</td>\n",
       "      <td>NaN</td>\n",
       "      <td>NaN</td>\n",
       "    </tr>\n",
       "    <tr>\n",
       "      <th>8</th>\n",
       "      <td>2017-09-01</td>\n",
       "      <td>24.0</td>\n",
       "      <td>8.0</td>\n",
       "      <td>7.0</td>\n",
       "      <td>9.0</td>\n",
       "      <td>NaN</td>\n",
       "      <td>NaN</td>\n",
       "      <td>NaN</td>\n",
       "      <td>NaN</td>\n",
       "      <td>NaN</td>\n",
       "      <td>NaN</td>\n",
       "      <td>NaN</td>\n",
       "      <td>NaN</td>\n",
       "    </tr>\n",
       "    <tr>\n",
       "      <th>9</th>\n",
       "      <td>2017-10-01</td>\n",
       "      <td>20.0</td>\n",
       "      <td>6.0</td>\n",
       "      <td>8.0</td>\n",
       "      <td>NaN</td>\n",
       "      <td>NaN</td>\n",
       "      <td>NaN</td>\n",
       "      <td>NaN</td>\n",
       "      <td>NaN</td>\n",
       "      <td>NaN</td>\n",
       "      <td>NaN</td>\n",
       "      <td>NaN</td>\n",
       "      <td>NaN</td>\n",
       "    </tr>\n",
       "    <tr>\n",
       "      <th>10</th>\n",
       "      <td>2017-11-01</td>\n",
       "      <td>13.0</td>\n",
       "      <td>5.0</td>\n",
       "      <td>NaN</td>\n",
       "      <td>NaN</td>\n",
       "      <td>NaN</td>\n",
       "      <td>NaN</td>\n",
       "      <td>NaN</td>\n",
       "      <td>NaN</td>\n",
       "      <td>NaN</td>\n",
       "      <td>NaN</td>\n",
       "      <td>NaN</td>\n",
       "      <td>NaN</td>\n",
       "    </tr>\n",
       "    <tr>\n",
       "      <th>11</th>\n",
       "      <td>2017-12-01</td>\n",
       "      <td>4.0</td>\n",
       "      <td>NaN</td>\n",
       "      <td>NaN</td>\n",
       "      <td>NaN</td>\n",
       "      <td>NaN</td>\n",
       "      <td>NaN</td>\n",
       "      <td>NaN</td>\n",
       "      <td>NaN</td>\n",
       "      <td>NaN</td>\n",
       "      <td>NaN</td>\n",
       "      <td>NaN</td>\n",
       "      <td>NaN</td>\n",
       "    </tr>\n",
       "  </tbody>\n",
       "</table>\n",
       "</div>"
      ],
      "text/plain": [
       "   cohort_month       0      1      2      3      4      5      6      7  \\\n",
       "0    2017-01-01  1347.0  483.0  505.0  499.0  492.0  475.0  513.0  524.0   \n",
       "1    2017-02-01   800.0  322.0  297.0  311.0  283.0  297.0  306.0  281.0   \n",
       "2    2017-03-01   484.0  167.0  172.0  164.0  180.0  184.0  173.0  209.0   \n",
       "3    2017-04-01   337.0  110.0  121.0  152.0  142.0  118.0  144.0  125.0   \n",
       "4    2017-05-01   213.0   86.0   83.0   88.0   73.0   73.0   74.0   83.0   \n",
       "5    2017-06-01   123.0   45.0   44.0   47.0   45.0   45.0   54.0    NaN   \n",
       "6    2017-07-01    77.0   26.0   26.0   32.0   37.0   24.0    NaN    NaN   \n",
       "7    2017-08-01    51.0   18.0   22.0   18.0   13.0    NaN    NaN    NaN   \n",
       "8    2017-09-01    24.0    8.0    7.0    9.0    NaN    NaN    NaN    NaN   \n",
       "9    2017-10-01    20.0    6.0    8.0    NaN    NaN    NaN    NaN    NaN   \n",
       "10   2017-11-01    13.0    5.0    NaN    NaN    NaN    NaN    NaN    NaN   \n",
       "11   2017-12-01     4.0    NaN    NaN    NaN    NaN    NaN    NaN    NaN   \n",
       "\n",
       "        8      9     10     11  \n",
       "0   489.0  524.0  492.0  510.0  \n",
       "1   325.0  306.0  292.0    NaN  \n",
       "2   186.0  180.0    NaN    NaN  \n",
       "3   129.0    NaN    NaN    NaN  \n",
       "4     NaN    NaN    NaN    NaN  \n",
       "5     NaN    NaN    NaN    NaN  \n",
       "6     NaN    NaN    NaN    NaN  \n",
       "7     NaN    NaN    NaN    NaN  \n",
       "8     NaN    NaN    NaN    NaN  \n",
       "9     NaN    NaN    NaN    NaN  \n",
       "10    NaN    NaN    NaN    NaN  \n",
       "11    NaN    NaN    NaN    NaN  "
      ]
     },
     "execution_count": 7,
     "metadata": {},
     "output_type": "execute_result"
    }
   ],
   "source": [
    "query = '''\n",
    "WITH approved_orders AS (\n",
    "  SELECT\n",
    "    customer_id\n",
    "    , transaction_date\n",
    "    , DATE_TRUNC('month', transaction_date) AS transaction_month\n",
    "    , MIN(DATE_TRUNC('month', transaction_date)) OVER (PARTITION BY customer_id) AS cohort_month\n",
    "  FROM transactions\n",
    "  WHERE order_status = 'Approved'\n",
    "),\n",
    "cohorts AS (\n",
    "  SELECT\n",
    "    COUNT(DISTINCT customer_id) AS id_counts\n",
    "    , cohort_month\n",
    "    , DATE_PART('month', AGE(transaction_month, cohort_month))::INT AS cohort_index\n",
    "  FROM approved_orders\n",
    "  GROUP BY cohort_index, cohort_month\n",
    ")\n",
    "\n",
    "SELECT\n",
    "  cohort_month\n",
    "  , SUM(CASE WHEN cohort_index = 0 THEN id_counts END) AS \"0\"\n",
    "  , SUM(CASE WHEN cohort_index = 1 THEN id_counts END) AS \"1\"\n",
    "  , SUM(CASE WHEN cohort_index = 2 THEN id_counts END) AS \"2\"\n",
    "  , SUM(CASE WHEN cohort_index = 3 THEN id_counts END) AS \"3\"\n",
    "  , SUM(CASE WHEN cohort_index = 4 THEN id_counts END) AS \"4\"\n",
    "  , SUM(CASE WHEN cohort_index = 5 THEN id_counts END) AS \"5\"\n",
    "  , SUM(CASE WHEN cohort_index = 6 THEN id_counts END) AS \"6\"\n",
    "  , SUM(CASE WHEN cohort_index = 7 THEN id_counts END) AS \"7\"\n",
    "  , SUM(CASE WHEN cohort_index = 8 THEN id_counts END) AS \"8\"\n",
    "  , SUM(CASE WHEN cohort_index = 9 THEN id_counts END) AS \"9\"\n",
    "  , SUM(CASE WHEN cohort_index = 10 THEN id_counts END) AS \"10\"\n",
    "  , SUM(CASE WHEN cohort_index = 11 THEN id_counts END) AS \"11\"\n",
    "FROM cohorts\n",
    "GROUP BY 1\n",
    "ORDER BY 1;\n",
    "'''\n",
    "cohort_counts = pd.read_sql(query, engine)\n",
    "cohort_counts"
   ]
  },
  {
   "cell_type": "code",
   "execution_count": 8,
   "metadata": {},
   "outputs": [],
   "source": [
    "cohort_counts.set_index('cohort_month', inplace=True)"
   ]
  },
  {
   "cell_type": "markdown",
   "metadata": {},
   "source": [
    "Для выявления динамики изменений показателя удержания пользователя (retention), делим значения каждой когорты на содержание первого столбца (нулевой когорты).\n",
    "Далее средствами библиотек matplotlib и seaborn визаулизируем таблицу в виде тепловой карты."
   ]
  },
  {
   "cell_type": "code",
   "execution_count": 9,
   "metadata": {},
   "outputs": [
    {
     "data": {
      "image/png": "[encoded data removed]",
      "text/plain": [
       "<Figure size 936x720 with 2 Axes>"
      ]
     },
     "metadata": {
      "needs_background": "light"
     },
     "output_type": "display_data"
    }
   ],
   "source": [
    "retention = cohort_counts.divide(cohort_counts['0'], axis=0).round(3)\n",
    "retention.index = retention.index.strftime('%Y-%m')\n",
    "\n",
    "fig, ax = plt.subplots(figsize=(13,10))\n",
    "ax.set(xlabel=\"Cohort Index\",\n",
    "       ylabel=\"Cohort Month\",\n",
    "       title=\"MoM Retention Rate for Customer Transaction Data\")\n",
    "sns.heatmap(retention, annot=True, cmap='winter', fmt='.0%')\n",
    "ax.tick_params(axis='y', labelrotation=360);"
   ]
  },
  {
   "cell_type": "markdown",
   "metadata": {},
   "source": [
    "Проверяем результат расчетами в Python"
   ]
  },
  {
   "cell_type": "code",
   "execution_count": 11,
   "metadata": {},
   "outputs": [
    {
     "data": {
      "text/html": [
       "<div>\n",
       "<style scoped>\n",
       "    .dataframe tbody tr th:only-of-type {\n",
       "        vertical-align: middle;\n",
       "    }\n",
       "\n",
       "    .dataframe tbody tr th {\n",
       "        vertical-align: top;\n",
       "    }\n",
       "\n",
       "    .dataframe thead th {\n",
       "        text-align: right;\n",
       "    }\n",
       "</style>\n",
       "<table border=\"1\" class=\"dataframe\">\n",
       "  <thead>\n",
       "    <tr style=\"text-align: right;\">\n",
       "      <th></th>\n",
       "      <th>customer_id</th>\n",
       "      <th>transaction_date</th>\n",
       "      <th>online_order</th>\n",
       "      <th>order_status</th>\n",
       "    </tr>\n",
       "  </thead>\n",
       "  <tbody>\n",
       "    <tr>\n",
       "      <th>0</th>\n",
       "      <td>2950</td>\n",
       "      <td>2017-02-25</td>\n",
       "      <td>0.0</td>\n",
       "      <td>Approved</td>\n",
       "    </tr>\n",
       "    <tr>\n",
       "      <th>1</th>\n",
       "      <td>3120</td>\n",
       "      <td>2017-05-21</td>\n",
       "      <td>1.0</td>\n",
       "      <td>Approved</td>\n",
       "    </tr>\n",
       "    <tr>\n",
       "      <th>2</th>\n",
       "      <td>402</td>\n",
       "      <td>2017-10-16</td>\n",
       "      <td>0.0</td>\n",
       "      <td>Approved</td>\n",
       "    </tr>\n",
       "    <tr>\n",
       "      <th>3</th>\n",
       "      <td>3135</td>\n",
       "      <td>2017-08-31</td>\n",
       "      <td>0.0</td>\n",
       "      <td>Approved</td>\n",
       "    </tr>\n",
       "    <tr>\n",
       "      <th>4</th>\n",
       "      <td>787</td>\n",
       "      <td>2017-10-01</td>\n",
       "      <td>1.0</td>\n",
       "      <td>Approved</td>\n",
       "    </tr>\n",
       "  </tbody>\n",
       "</table>\n",
       "</div>"
      ],
      "text/plain": [
       "   customer_id transaction_date  online_order order_status\n",
       "0         2950       2017-02-25           0.0     Approved\n",
       "1         3120       2017-05-21           1.0     Approved\n",
       "2          402       2017-10-16           0.0     Approved\n",
       "3         3135       2017-08-31           0.0     Approved\n",
       "4          787       2017-10-01           1.0     Approved"
      ]
     },
     "execution_count": 11,
     "metadata": {},
     "output_type": "execute_result"
    }
   ],
   "source": [
    "df = df[['customer_id','transaction_date','online_order','order_status']]\n",
    "df.head()"
   ]
  },
  {
   "cell_type": "code",
   "execution_count": 12,
   "metadata": {},
   "outputs": [
    {
     "name": "stdout",
     "output_type": "stream",
     "text": [
      "<class 'pandas.core.frame.DataFrame'>\n",
      "Int64Index: 19761 entries, 0 to 19999\n",
      "Data columns (total 4 columns):\n",
      " #   Column            Non-Null Count  Dtype         \n",
      "---  ------            --------------  -----         \n",
      " 0   customer_id       19761 non-null  int64         \n",
      " 1   transaction_date  19761 non-null  datetime64[ns]\n",
      " 2   online_order      19407 non-null  float64       \n",
      " 3   order_status      19761 non-null  object        \n",
      "dtypes: datetime64[ns](1), float64(1), int64(1), object(1)\n",
      "memory usage: 771.9+ KB\n"
     ]
    }
   ],
   "source": [
    "df = df.drop_duplicates().query('order_status == \"Approved\"')\n",
    "df.info()"
   ]
  },
  {
   "cell_type": "code",
   "execution_count": 13,
   "metadata": {},
   "outputs": [],
   "source": [
    "from pandas.tseries.offsets import Day, MonthBegin"
   ]
  },
  {
   "cell_type": "markdown",
   "metadata": {},
   "source": [
    "Выделяем `transaction_month` путем смещения даты транзакции на начало месяца."
   ]
  },
  {
   "cell_type": "code",
   "execution_count": 14,
   "metadata": {},
   "outputs": [],
   "source": [
    "df['transaction_month'] = df['transaction_date'] + Day() - MonthBegin()"
   ]
  },
  {
   "cell_type": "markdown",
   "metadata": {},
   "source": [
    "Месяц когорты определяем как первую дату появления пользователя"
   ]
  },
  {
   "cell_type": "code",
   "execution_count": 15,
   "metadata": {},
   "outputs": [],
   "source": [
    "df['cohort_month'] = df.groupby('customer_id')['transaction_month'].transform('min')"
   ]
  },
  {
   "cell_type": "markdown",
   "metadata": {},
   "source": [
    "Индекс когорты — разница между датой транзакции и месяцем когорты."
   ]
  },
  {
   "cell_type": "code",
   "execution_count": 17,
   "metadata": {},
   "outputs": [],
   "source": [
    "df['cohort_index'] = ((df['transaction_month'] - df['cohort_month'])\n",
    "                                               / np.timedelta64(1, 'M')).round().astype(int)"
   ]
  },
  {
   "cell_type": "markdown",
   "metadata": {},
   "source": [
    "Считаем уникальных пользователей по группам `cohort_month,cohort_index`. Строим сводную таблицу."
   ]
  },
  {
   "cell_type": "code",
   "execution_count": 18,
   "metadata": {},
   "outputs": [
    {
     "data": {
      "text/html": [
       "<div>\n",
       "<style scoped>\n",
       "    .dataframe tbody tr th:only-of-type {\n",
       "        vertical-align: middle;\n",
       "    }\n",
       "\n",
       "    .dataframe tbody tr th {\n",
       "        vertical-align: top;\n",
       "    }\n",
       "\n",
       "    .dataframe thead th {\n",
       "        text-align: right;\n",
       "    }\n",
       "</style>\n",
       "<table border=\"1\" class=\"dataframe\">\n",
       "  <thead>\n",
       "    <tr style=\"text-align: right;\">\n",
       "      <th></th>\n",
       "      <th>cohort_month</th>\n",
       "      <th>cohort_index</th>\n",
       "      <th>customer_id</th>\n",
       "    </tr>\n",
       "  </thead>\n",
       "  <tbody>\n",
       "    <tr>\n",
       "      <th>0</th>\n",
       "      <td>2017-01-01</td>\n",
       "      <td>0</td>\n",
       "      <td>1347</td>\n",
       "    </tr>\n",
       "    <tr>\n",
       "      <th>1</th>\n",
       "      <td>2017-01-01</td>\n",
       "      <td>1</td>\n",
       "      <td>483</td>\n",
       "    </tr>\n",
       "    <tr>\n",
       "      <th>2</th>\n",
       "      <td>2017-01-01</td>\n",
       "      <td>2</td>\n",
       "      <td>505</td>\n",
       "    </tr>\n",
       "    <tr>\n",
       "      <th>3</th>\n",
       "      <td>2017-01-01</td>\n",
       "      <td>3</td>\n",
       "      <td>499</td>\n",
       "    </tr>\n",
       "    <tr>\n",
       "      <th>4</th>\n",
       "      <td>2017-01-01</td>\n",
       "      <td>4</td>\n",
       "      <td>492</td>\n",
       "    </tr>\n",
       "  </tbody>\n",
       "</table>\n",
       "</div>"
      ],
      "text/plain": [
       "  cohort_month  cohort_index  customer_id\n",
       "0   2017-01-01             0         1347\n",
       "1   2017-01-01             1          483\n",
       "2   2017-01-01             2          505\n",
       "3   2017-01-01             3          499\n",
       "4   2017-01-01             4          492"
      ]
     },
     "execution_count": 18,
     "metadata": {},
     "output_type": "execute_result"
    }
   ],
   "source": [
    "cohort_data = df.groupby(['cohort_month','cohort_index'])['customer_id'].nunique().reset_index()\n",
    "cohort_counts = cohort_data.pivot_table(\n",
    "    index = 'cohort_month',\n",
    "    columns = 'cohort_index',\n",
    "    values = 'customer_id'   \n",
    ")\n",
    "cohort_data.head()"
   ]
  },
  {
   "cell_type": "markdown",
   "metadata": {},
   "source": [
    "Рассчитываем retention rate по каждой когорте. Строим тепловую карту."
   ]
  },
  {
   "cell_type": "code",
   "execution_count": 20,
   "metadata": {},
   "outputs": [
    {
     "data": {
      "image/png": "[encoded data removed]",
      "text/plain": [
       "<Figure size 936x720 with 2 Axes>"
      ]
     },
     "metadata": {
      "needs_background": "light"
     },
     "output_type": "display_data"
    }
   ],
   "source": [
    "retention = cohort_counts.divide(cohort_counts[0], axis=0).round(3)\n",
    "retention.index = retention.index.strftime('%Y-%m')\n",
    "\n",
    "fig, ax = plt.subplots(figsize=(13,10))\n",
    "sns.heatmap(retention, annot=True, cmap='spring', fmt='.0%')\n",
    "ax.tick_params(axis='y', labelrotation=360)\n",
    "ax.set(xlabel=\"Cohort Index\",\n",
    "       ylabel=\"Cohort Month\",\n",
    "       title=\"MoM Retention Rate for Customer Transaction Data\");"
   ]
  },
  {
   "cell_type": "markdown",
   "metadata": {},
   "source": [
    "# 2. Генерация бинарных строк\n",
    "\n",
    "Нужно составить программу на Python для герерации бинарных строк длины N, к которых бы не было рядом стоящих единиц.\n",
    "\n",
    "```python\n",
    "generate_binary_strings(2) -> ['00', '01', '10']\n",
    "generate_binary_strings(3) -> ['000', '001', '010', '100', '101']\n",
    "```"
   ]
  },
  {
   "cell_type": "code",
   "execution_count": 30,
   "metadata": {},
   "outputs": [],
   "source": [
    "from itertools import product\n",
    "from typing import List\n",
    "\n",
    "def generate_binary_strings(n: int) -> List[str]:\n",
    "    \"\"\"Output all binary strings of length N\n",
    "    such that there are no repeating \"1\"s\n",
    "    e.g. `generate_binary_strings(2) -> [00, 01, 10]`\n",
    "    and `generate_binary_strings(3) -> [000, 001, 010, 100, 101]`\n",
    "    \"\"\"\n",
    "    return list(filter(lambda x: '11' not in x, map(''.join, product('01', repeat=n))))"
   ]
  },
  {
   "cell_type": "code",
   "execution_count": 31,
   "metadata": {},
   "outputs": [
    {
     "name": "stdout",
     "output_type": "stream",
     "text": [
      "ok\n"
     ]
    }
   ],
   "source": [
    "assert generate_binary_strings(2) == ['00', '01', '10']; print('ok')"
   ]
  },
  {
   "cell_type": "code",
   "execution_count": 32,
   "metadata": {},
   "outputs": [
    {
     "name": "stdout",
     "output_type": "stream",
     "text": [
      "ok\n"
     ]
    }
   ],
   "source": [
    "assert generate_binary_strings(3) == ['000', '001', '010', '100', '101']; print('ok')"
   ]
  }
 ],
 "metadata": {
  "kernelspec": {
   "display_name": "Python 3",
   "language": "python",
   "name": "python3"
  },
  "language_info": {
   "codemirror_mode": {
    "name": "ipython",
    "version": 3
   },
   "file_extension": ".py",
   "mimetype": "text/x-python",
   "name": "python",
   "nbconvert_exporter": "python",
   "pygments_lexer": "ipython3",
   "version": "3.8.3"
  }
 },
 "nbformat": 4,
 "nbformat_minor": 4
}
